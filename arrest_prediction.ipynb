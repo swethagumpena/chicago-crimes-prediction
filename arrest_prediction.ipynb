{
 "cells": [
  {
   "cell_type": "markdown",
   "metadata": {},
   "source": [
    "### Predicting if a future crime would result in an arrest or not"
   ]
  },
  {
   "cell_type": "markdown",
   "metadata": {},
   "source": [
    "Import the necessary libraries"
   ]
  },
  {
   "cell_type": "code",
   "execution_count": 2,
   "metadata": {},
   "outputs": [],
   "source": [
    "import pandas as pd\n",
    "import numpy as np\n",
    "import matplotlib.pyplot as plt\n",
    "from sklearn.preprocessing import Normalizer\n",
    "from sklearn.metrics import accuracy_score\n",
    "from sklearn.neighbors import KNeighborsClassifier\n",
    "from sklearn.model_selection import train_test_split, RandomizedSearchCV, StratifiedKFold\n",
    "from sklearn.metrics import confusion_matrix,classification_report,f1_score,precision_score,make_scorer\n",
    "from sklearn.preprocessing import StandardScaler\n",
    "from sklearn.ensemble import RandomForestRegressor, RandomForestClassifier\n",
    "import seaborn as sns\n",
    "import joblib"
   ]
  },
  {
   "cell_type": "markdown",
   "metadata": {},
   "source": [
    "##### Load the training dataset"
   ]
  },
  {
   "cell_type": "code",
   "execution_count": 3,
   "metadata": {},
   "outputs": [
    {
     "data": {
      "text/html": [
       "<div>\n",
       "<style scoped>\n",
       "    .dataframe tbody tr th:only-of-type {\n",
       "        vertical-align: middle;\n",
       "    }\n",
       "\n",
       "    .dataframe tbody tr th {\n",
       "        vertical-align: top;\n",
       "    }\n",
       "\n",
       "    .dataframe thead th {\n",
       "        text-align: right;\n",
       "    }\n",
       "</style>\n",
       "<table border=\"1\" class=\"dataframe\">\n",
       "  <thead>\n",
       "    <tr style=\"text-align: right;\">\n",
       "      <th></th>\n",
       "      <th>ID</th>\n",
       "      <th>Case Number</th>\n",
       "      <th>Date</th>\n",
       "      <th>Block</th>\n",
       "      <th>IUCR</th>\n",
       "      <th>Primary Type</th>\n",
       "      <th>Description</th>\n",
       "      <th>Location Description</th>\n",
       "      <th>Arrest</th>\n",
       "      <th>Domestic</th>\n",
       "      <th>...</th>\n",
       "      <th>Ward</th>\n",
       "      <th>Community Area</th>\n",
       "      <th>FBI Code</th>\n",
       "      <th>X Coordinate</th>\n",
       "      <th>Y Coordinate</th>\n",
       "      <th>Year</th>\n",
       "      <th>Updated On</th>\n",
       "      <th>Latitude</th>\n",
       "      <th>Longitude</th>\n",
       "      <th>Location</th>\n",
       "    </tr>\n",
       "  </thead>\n",
       "  <tbody>\n",
       "    <tr>\n",
       "      <th>0</th>\n",
       "      <td>11552667</td>\n",
       "      <td>JC100123</td>\n",
       "      <td>1/1/19 0:00</td>\n",
       "      <td>004XX N STATE ST</td>\n",
       "      <td>890</td>\n",
       "      <td>THEFT</td>\n",
       "      <td>FROM BUILDING</td>\n",
       "      <td>RESTAURANT</td>\n",
       "      <td>False</td>\n",
       "      <td>False</td>\n",
       "      <td>...</td>\n",
       "      <td>42.0</td>\n",
       "      <td>8.0</td>\n",
       "      <td>6</td>\n",
       "      <td>1176302.0</td>\n",
       "      <td>1903096.0</td>\n",
       "      <td>2019</td>\n",
       "      <td>1/10/19 15:16</td>\n",
       "      <td>41.889453</td>\n",
       "      <td>-87.627995</td>\n",
       "      <td>(41.889453169, -87.627994833)</td>\n",
       "    </tr>\n",
       "    <tr>\n",
       "      <th>1</th>\n",
       "      <td>11552674</td>\n",
       "      <td>JC100085</td>\n",
       "      <td>1/1/19 0:00</td>\n",
       "      <td>092XX S NORMAL AVE</td>\n",
       "      <td>910</td>\n",
       "      <td>MOTOR VEHICLE THEFT</td>\n",
       "      <td>AUTOMOBILE</td>\n",
       "      <td>STREET</td>\n",
       "      <td>False</td>\n",
       "      <td>False</td>\n",
       "      <td>...</td>\n",
       "      <td>21.0</td>\n",
       "      <td>73.0</td>\n",
       "      <td>7</td>\n",
       "      <td>1174586.0</td>\n",
       "      <td>1843723.0</td>\n",
       "      <td>2019</td>\n",
       "      <td>1/10/19 15:16</td>\n",
       "      <td>41.726566</td>\n",
       "      <td>-87.636066</td>\n",
       "      <td>(41.726566477, -87.636065622)</td>\n",
       "    </tr>\n",
       "    <tr>\n",
       "      <th>2</th>\n",
       "      <td>11552709</td>\n",
       "      <td>JC100020</td>\n",
       "      <td>1/1/19 0:00</td>\n",
       "      <td>044XX S WASHTENAW AVE</td>\n",
       "      <td>486</td>\n",
       "      <td>BATTERY</td>\n",
       "      <td>DOMESTIC BATTERY SIMPLE</td>\n",
       "      <td>APARTMENT</td>\n",
       "      <td>False</td>\n",
       "      <td>True</td>\n",
       "      <td>...</td>\n",
       "      <td>15.0</td>\n",
       "      <td>58.0</td>\n",
       "      <td>08B</td>\n",
       "      <td>1159112.0</td>\n",
       "      <td>1875020.0</td>\n",
       "      <td>2019</td>\n",
       "      <td>1/10/19 15:16</td>\n",
       "      <td>41.812780</td>\n",
       "      <td>-87.691894</td>\n",
       "      <td>(41.812780011, -87.691893746)</td>\n",
       "    </tr>\n",
       "    <tr>\n",
       "      <th>3</th>\n",
       "      <td>11552758</td>\n",
       "      <td>JC100058</td>\n",
       "      <td>1/1/19 0:00</td>\n",
       "      <td>063XX S MARSHFIELD AVE</td>\n",
       "      <td>1310</td>\n",
       "      <td>CRIMINAL DAMAGE</td>\n",
       "      <td>TO PROPERTY</td>\n",
       "      <td>APARTMENT</td>\n",
       "      <td>False</td>\n",
       "      <td>False</td>\n",
       "      <td>...</td>\n",
       "      <td>16.0</td>\n",
       "      <td>67.0</td>\n",
       "      <td>14</td>\n",
       "      <td>1166414.0</td>\n",
       "      <td>1862607.0</td>\n",
       "      <td>2019</td>\n",
       "      <td>1/10/19 15:16</td>\n",
       "      <td>41.778565</td>\n",
       "      <td>-87.665464</td>\n",
       "      <td>(41.77856457, -87.665463557)</td>\n",
       "    </tr>\n",
       "    <tr>\n",
       "      <th>4</th>\n",
       "      <td>11553168</td>\n",
       "      <td>JC100745</td>\n",
       "      <td>1/1/19 0:00</td>\n",
       "      <td>008XX N MICHIGAN AVE</td>\n",
       "      <td>890</td>\n",
       "      <td>THEFT</td>\n",
       "      <td>FROM BUILDING</td>\n",
       "      <td>RESTAURANT</td>\n",
       "      <td>False</td>\n",
       "      <td>False</td>\n",
       "      <td>...</td>\n",
       "      <td>2.0</td>\n",
       "      <td>8.0</td>\n",
       "      <td>6</td>\n",
       "      <td>1177330.0</td>\n",
       "      <td>1906499.0</td>\n",
       "      <td>2019</td>\n",
       "      <td>1/10/19 15:16</td>\n",
       "      <td>41.898768</td>\n",
       "      <td>-87.624116</td>\n",
       "      <td>(41.898767916, -87.624116333)</td>\n",
       "    </tr>\n",
       "  </tbody>\n",
       "</table>\n",
       "<p>5 rows × 22 columns</p>\n",
       "</div>"
      ],
      "text/plain": [
       "         ID Case Number         Date                   Block  IUCR  \\\n",
       "0  11552667    JC100123  1/1/19 0:00        004XX N STATE ST   890   \n",
       "1  11552674    JC100085  1/1/19 0:00      092XX S NORMAL AVE   910   \n",
       "2  11552709    JC100020  1/1/19 0:00   044XX S WASHTENAW AVE   486   \n",
       "3  11552758    JC100058  1/1/19 0:00  063XX S MARSHFIELD AVE  1310   \n",
       "4  11553168    JC100745  1/1/19 0:00    008XX N MICHIGAN AVE   890   \n",
       "\n",
       "          Primary Type              Description Location Description  Arrest  \\\n",
       "0                THEFT            FROM BUILDING           RESTAURANT   False   \n",
       "1  MOTOR VEHICLE THEFT               AUTOMOBILE               STREET   False   \n",
       "2              BATTERY  DOMESTIC BATTERY SIMPLE            APARTMENT   False   \n",
       "3      CRIMINAL DAMAGE              TO PROPERTY            APARTMENT   False   \n",
       "4                THEFT            FROM BUILDING           RESTAURANT   False   \n",
       "\n",
       "   Domestic  ...  Ward  Community Area  FBI Code  X Coordinate Y Coordinate  \\\n",
       "0     False  ...  42.0             8.0         6     1176302.0    1903096.0   \n",
       "1     False  ...  21.0            73.0         7     1174586.0    1843723.0   \n",
       "2      True  ...  15.0            58.0       08B     1159112.0    1875020.0   \n",
       "3     False  ...  16.0            67.0        14     1166414.0    1862607.0   \n",
       "4     False  ...   2.0             8.0         6     1177330.0    1906499.0   \n",
       "\n",
       "   Year     Updated On   Latitude  Longitude                       Location  \n",
       "0  2019  1/10/19 15:16  41.889453 -87.627995  (41.889453169, -87.627994833)  \n",
       "1  2019  1/10/19 15:16  41.726566 -87.636066  (41.726566477, -87.636065622)  \n",
       "2  2019  1/10/19 15:16  41.812780 -87.691894  (41.812780011, -87.691893746)  \n",
       "3  2019  1/10/19 15:16  41.778565 -87.665464   (41.77856457, -87.665463557)  \n",
       "4  2019  1/10/19 15:16  41.898768 -87.624116  (41.898767916, -87.624116333)  \n",
       "\n",
       "[5 rows x 22 columns]"
      ]
     },
     "execution_count": 3,
     "metadata": {},
     "output_type": "execute_result"
    }
   ],
   "source": [
    "crimes_df = pd.read_csv('Crimes-2019_to_2021.csv')\n",
    "crimes_df.head()"
   ]
  },
  {
   "cell_type": "markdown",
   "metadata": {},
   "source": [
    "Performing data cleaning steps"
   ]
  },
  {
   "cell_type": "code",
   "execution_count": 4,
   "metadata": {},
   "outputs": [],
   "source": [
    "crimes_df = crimes_df.drop_duplicates()"
   ]
  },
  {
   "cell_type": "code",
   "execution_count": 5,
   "metadata": {},
   "outputs": [],
   "source": [
    "crimes_df.columns = crimes_df.columns.str.strip()\n",
    "crimes_df.columns = crimes_df.columns.str.replace(' ', '_')\n",
    "crimes_df.columns = crimes_df.columns.str.lower()"
   ]
  },
  {
   "cell_type": "code",
   "execution_count": 6,
   "metadata": {},
   "outputs": [],
   "source": [
    "crimes_df.drop(['location','case_number'], axis = 1, inplace = True)"
   ]
  },
  {
   "cell_type": "code",
   "execution_count": 7,
   "metadata": {},
   "outputs": [],
   "source": [
    "crimes_df['location_description'] = crimes_df['location_description'].fillna('Unavailable')"
   ]
  },
  {
   "cell_type": "code",
   "execution_count": 8,
   "metadata": {},
   "outputs": [],
   "source": [
    "crimes_df[['x_coordinate', 'y_coordinate']] = crimes_df[['x_coordinate', 'y_coordinate']].replace(0.0, np.nan)\n",
    "crimes_df.dropna(inplace=True)"
   ]
  },
  {
   "cell_type": "code",
   "execution_count": 9,
   "metadata": {},
   "outputs": [
    {
     "data": {
      "text/plain": [
       "id                      0\n",
       "date                    0\n",
       "block                   0\n",
       "iucr                    0\n",
       "primary_type            0\n",
       "description             0\n",
       "location_description    0\n",
       "arrest                  0\n",
       "domestic                0\n",
       "beat                    0\n",
       "district                0\n",
       "ward                    0\n",
       "community_area          0\n",
       "fbi_code                0\n",
       "x_coordinate            0\n",
       "y_coordinate            0\n",
       "year                    0\n",
       "updated_on              0\n",
       "latitude                0\n",
       "longitude               0\n",
       "dtype: int64"
      ]
     },
     "execution_count": 9,
     "metadata": {},
     "output_type": "execute_result"
    }
   ],
   "source": [
    "crimes_df.isna().sum()"
   ]
  },
  {
   "cell_type": "markdown",
   "metadata": {},
   "source": [
    "To predict if an arrest will happen or no, the following columns are not necessary: \"Description\", \"FBI Code\", \"Date\", \"Updated On\""
   ]
  },
  {
   "cell_type": "code",
   "execution_count": 10,
   "metadata": {},
   "outputs": [],
   "source": [
    "crimes_df = crimes_df.drop(['description','fbi_code','date','updated_on'],axis=1)"
   ]
  },
  {
   "cell_type": "markdown",
   "metadata": {},
   "source": [
    "Converting object to category"
   ]
  },
  {
   "cell_type": "code",
   "execution_count": 11,
   "metadata": {},
   "outputs": [],
   "source": [
    "crimes_df['iucr'] = crimes_df['iucr'].astype('category')\n",
    "crimes_df['block'] = crimes_df['block'].astype('category')\n",
    "crimes_df['primary_type'] = crimes_df['primary_type'].astype('category')\n",
    "crimes_df['location_description'] = crimes_df['location_description'].astype('category')"
   ]
  },
  {
   "cell_type": "code",
   "execution_count": 12,
   "metadata": {},
   "outputs": [],
   "source": [
    "crimes_df['iucr'] = crimes_df['iucr'].cat.codes\n",
    "crimes_df['block'] = crimes_df['block'].cat.codes\n",
    "crimes_df['primary_type'] = crimes_df['primary_type'].cat.codes\n",
    "crimes_df['location_description'] = crimes_df['location_description'].cat.codes"
   ]
  },
  {
   "cell_type": "code",
   "execution_count": 13,
   "metadata": {},
   "outputs": [
    {
     "data": {
      "text/html": [
       "<div>\n",
       "<style scoped>\n",
       "    .dataframe tbody tr th:only-of-type {\n",
       "        vertical-align: middle;\n",
       "    }\n",
       "\n",
       "    .dataframe tbody tr th {\n",
       "        vertical-align: top;\n",
       "    }\n",
       "\n",
       "    .dataframe thead th {\n",
       "        text-align: right;\n",
       "    }\n",
       "</style>\n",
       "<table border=\"1\" class=\"dataframe\">\n",
       "  <thead>\n",
       "    <tr style=\"text-align: right;\">\n",
       "      <th></th>\n",
       "      <th>id</th>\n",
       "      <th>block</th>\n",
       "      <th>iucr</th>\n",
       "      <th>primary_type</th>\n",
       "      <th>location_description</th>\n",
       "      <th>arrest</th>\n",
       "      <th>domestic</th>\n",
       "      <th>beat</th>\n",
       "      <th>district</th>\n",
       "      <th>ward</th>\n",
       "      <th>community_area</th>\n",
       "      <th>x_coordinate</th>\n",
       "      <th>y_coordinate</th>\n",
       "      <th>year</th>\n",
       "      <th>latitude</th>\n",
       "      <th>longitude</th>\n",
       "    </tr>\n",
       "  </thead>\n",
       "  <tbody>\n",
       "    <tr>\n",
       "      <th>0</th>\n",
       "      <td>11552667</td>\n",
       "      <td>2395</td>\n",
       "      <td>320</td>\n",
       "      <td>31</td>\n",
       "      <td>139</td>\n",
       "      <td>False</td>\n",
       "      <td>False</td>\n",
       "      <td>1831</td>\n",
       "      <td>18</td>\n",
       "      <td>42.0</td>\n",
       "      <td>8.0</td>\n",
       "      <td>1176302.0</td>\n",
       "      <td>1903096.0</td>\n",
       "      <td>2019</td>\n",
       "      <td>41.889453</td>\n",
       "      <td>-87.627995</td>\n",
       "    </tr>\n",
       "    <tr>\n",
       "      <th>1</th>\n",
       "      <td>11552674</td>\n",
       "      <td>29719</td>\n",
       "      <td>322</td>\n",
       "      <td>17</td>\n",
       "      <td>156</td>\n",
       "      <td>False</td>\n",
       "      <td>False</td>\n",
       "      <td>2223</td>\n",
       "      <td>22</td>\n",
       "      <td>21.0</td>\n",
       "      <td>73.0</td>\n",
       "      <td>1174586.0</td>\n",
       "      <td>1843723.0</td>\n",
       "      <td>2019</td>\n",
       "      <td>41.726566</td>\n",
       "      <td>-87.636066</td>\n",
       "    </tr>\n",
       "    <tr>\n",
       "      <th>2</th>\n",
       "      <td>11552709</td>\n",
       "      <td>18996</td>\n",
       "      <td>257</td>\n",
       "      <td>2</td>\n",
       "      <td>17</td>\n",
       "      <td>False</td>\n",
       "      <td>True</td>\n",
       "      <td>922</td>\n",
       "      <td>9</td>\n",
       "      <td>15.0</td>\n",
       "      <td>58.0</td>\n",
       "      <td>1159112.0</td>\n",
       "      <td>1875020.0</td>\n",
       "      <td>2019</td>\n",
       "      <td>41.812780</td>\n",
       "      <td>-87.691894</td>\n",
       "    </tr>\n",
       "    <tr>\n",
       "      <th>3</th>\n",
       "      <td>11552758</td>\n",
       "      <td>25143</td>\n",
       "      <td>44</td>\n",
       "      <td>6</td>\n",
       "      <td>17</td>\n",
       "      <td>False</td>\n",
       "      <td>False</td>\n",
       "      <td>725</td>\n",
       "      <td>7</td>\n",
       "      <td>16.0</td>\n",
       "      <td>67.0</td>\n",
       "      <td>1166414.0</td>\n",
       "      <td>1862607.0</td>\n",
       "      <td>2019</td>\n",
       "      <td>41.778565</td>\n",
       "      <td>-87.665464</td>\n",
       "    </tr>\n",
       "    <tr>\n",
       "      <th>4</th>\n",
       "      <td>11553168</td>\n",
       "      <td>4240</td>\n",
       "      <td>320</td>\n",
       "      <td>31</td>\n",
       "      <td>139</td>\n",
       "      <td>False</td>\n",
       "      <td>False</td>\n",
       "      <td>1833</td>\n",
       "      <td>18</td>\n",
       "      <td>2.0</td>\n",
       "      <td>8.0</td>\n",
       "      <td>1177330.0</td>\n",
       "      <td>1906499.0</td>\n",
       "      <td>2019</td>\n",
       "      <td>41.898768</td>\n",
       "      <td>-87.624116</td>\n",
       "    </tr>\n",
       "    <tr>\n",
       "      <th>...</th>\n",
       "      <td>...</td>\n",
       "      <td>...</td>\n",
       "      <td>...</td>\n",
       "      <td>...</td>\n",
       "      <td>...</td>\n",
       "      <td>...</td>\n",
       "      <td>...</td>\n",
       "      <td>...</td>\n",
       "      <td>...</td>\n",
       "      <td>...</td>\n",
       "      <td>...</td>\n",
       "      <td>...</td>\n",
       "      <td>...</td>\n",
       "      <td>...</td>\n",
       "      <td>...</td>\n",
       "      <td>...</td>\n",
       "    </tr>\n",
       "    <tr>\n",
       "      <th>680412</th>\n",
       "      <td>12582884</td>\n",
       "      <td>31845</td>\n",
       "      <td>25</td>\n",
       "      <td>9</td>\n",
       "      <td>17</td>\n",
       "      <td>False</td>\n",
       "      <td>False</td>\n",
       "      <td>532</td>\n",
       "      <td>5</td>\n",
       "      <td>9.0</td>\n",
       "      <td>53.0</td>\n",
       "      <td>1178352.0</td>\n",
       "      <td>1827293.0</td>\n",
       "      <td>2021</td>\n",
       "      <td>41.681396</td>\n",
       "      <td>-87.622767</td>\n",
       "    </tr>\n",
       "    <tr>\n",
       "      <th>680413</th>\n",
       "      <td>12581143</td>\n",
       "      <td>1499</td>\n",
       "      <td>20</td>\n",
       "      <td>9</td>\n",
       "      <td>171</td>\n",
       "      <td>False</td>\n",
       "      <td>False</td>\n",
       "      <td>113</td>\n",
       "      <td>1</td>\n",
       "      <td>42.0</td>\n",
       "      <td>32.0</td>\n",
       "      <td>1176417.0</td>\n",
       "      <td>1899159.0</td>\n",
       "      <td>2021</td>\n",
       "      <td>41.878647</td>\n",
       "      <td>-87.627691</td>\n",
       "    </tr>\n",
       "    <tr>\n",
       "      <th>680414</th>\n",
       "      <td>12582638</td>\n",
       "      <td>27664</td>\n",
       "      <td>309</td>\n",
       "      <td>3</td>\n",
       "      <td>17</td>\n",
       "      <td>False</td>\n",
       "      <td>False</td>\n",
       "      <td>621</td>\n",
       "      <td>6</td>\n",
       "      <td>17.0</td>\n",
       "      <td>69.0</td>\n",
       "      <td>1173874.0</td>\n",
       "      <td>1854232.0</td>\n",
       "      <td>2021</td>\n",
       "      <td>41.755420</td>\n",
       "      <td>-87.638363</td>\n",
       "    </tr>\n",
       "    <tr>\n",
       "      <th>680415</th>\n",
       "      <td>12582397</td>\n",
       "      <td>13823</td>\n",
       "      <td>313</td>\n",
       "      <td>31</td>\n",
       "      <td>17</td>\n",
       "      <td>False</td>\n",
       "      <td>False</td>\n",
       "      <td>1414</td>\n",
       "      <td>14</td>\n",
       "      <td>1.0</td>\n",
       "      <td>22.0</td>\n",
       "      <td>1156470.0</td>\n",
       "      <td>1913530.0</td>\n",
       "      <td>2021</td>\n",
       "      <td>41.918509</td>\n",
       "      <td>-87.700544</td>\n",
       "    </tr>\n",
       "    <tr>\n",
       "      <th>680417</th>\n",
       "      <td>12584219</td>\n",
       "      <td>4523</td>\n",
       "      <td>313</td>\n",
       "      <td>31</td>\n",
       "      <td>17</td>\n",
       "      <td>False</td>\n",
       "      <td>False</td>\n",
       "      <td>1232</td>\n",
       "      <td>12</td>\n",
       "      <td>27.0</td>\n",
       "      <td>28.0</td>\n",
       "      <td>1170594.0</td>\n",
       "      <td>1900243.0</td>\n",
       "      <td>2021</td>\n",
       "      <td>41.881751</td>\n",
       "      <td>-87.649040</td>\n",
       "    </tr>\n",
       "  </tbody>\n",
       "</table>\n",
       "<p>669973 rows × 16 columns</p>\n",
       "</div>"
      ],
      "text/plain": [
       "              id  block  iucr  primary_type  location_description  arrest  \\\n",
       "0       11552667   2395   320            31                   139   False   \n",
       "1       11552674  29719   322            17                   156   False   \n",
       "2       11552709  18996   257             2                    17   False   \n",
       "3       11552758  25143    44             6                    17   False   \n",
       "4       11553168   4240   320            31                   139   False   \n",
       "...          ...    ...   ...           ...                   ...     ...   \n",
       "680412  12582884  31845    25             9                    17   False   \n",
       "680413  12581143   1499    20             9                   171   False   \n",
       "680414  12582638  27664   309             3                    17   False   \n",
       "680415  12582397  13823   313            31                    17   False   \n",
       "680417  12584219   4523   313            31                    17   False   \n",
       "\n",
       "        domestic  beat  district  ward  community_area  x_coordinate  \\\n",
       "0          False  1831        18  42.0             8.0     1176302.0   \n",
       "1          False  2223        22  21.0            73.0     1174586.0   \n",
       "2           True   922         9  15.0            58.0     1159112.0   \n",
       "3          False   725         7  16.0            67.0     1166414.0   \n",
       "4          False  1833        18   2.0             8.0     1177330.0   \n",
       "...          ...   ...       ...   ...             ...           ...   \n",
       "680412     False   532         5   9.0            53.0     1178352.0   \n",
       "680413     False   113         1  42.0            32.0     1176417.0   \n",
       "680414     False   621         6  17.0            69.0     1173874.0   \n",
       "680415     False  1414        14   1.0            22.0     1156470.0   \n",
       "680417     False  1232        12  27.0            28.0     1170594.0   \n",
       "\n",
       "        y_coordinate  year   latitude  longitude  \n",
       "0          1903096.0  2019  41.889453 -87.627995  \n",
       "1          1843723.0  2019  41.726566 -87.636066  \n",
       "2          1875020.0  2019  41.812780 -87.691894  \n",
       "3          1862607.0  2019  41.778565 -87.665464  \n",
       "4          1906499.0  2019  41.898768 -87.624116  \n",
       "...              ...   ...        ...        ...  \n",
       "680412     1827293.0  2021  41.681396 -87.622767  \n",
       "680413     1899159.0  2021  41.878647 -87.627691  \n",
       "680414     1854232.0  2021  41.755420 -87.638363  \n",
       "680415     1913530.0  2021  41.918509 -87.700544  \n",
       "680417     1900243.0  2021  41.881751 -87.649040  \n",
       "\n",
       "[669973 rows x 16 columns]"
      ]
     },
     "execution_count": 13,
     "metadata": {},
     "output_type": "execute_result"
    }
   ],
   "source": [
    "crimes_df"
   ]
  },
  {
   "cell_type": "markdown",
   "metadata": {},
   "source": [
    "## Model 1: K-Nearest Neighbors"
   ]
  },
  {
   "cell_type": "markdown",
   "metadata": {},
   "source": [
    "We are predicting if an arrest will happen or no. So, the target column is arrest"
   ]
  },
  {
   "cell_type": "code",
   "execution_count": 14,
   "metadata": {},
   "outputs": [],
   "source": [
    "crimes_df_knn = crimes_df"
   ]
  },
  {
   "cell_type": "markdown",
   "metadata": {},
   "source": [
    "Splitting the dataset into training and testing in the ratio 70:30"
   ]
  },
  {
   "cell_type": "code",
   "execution_count": 15,
   "metadata": {},
   "outputs": [],
   "source": [
    "X_train, X_test, Y_train, Y_test = train_test_split(crimes_df_knn.drop(['arrest'],axis = 1),crimes_df_knn[['arrest']], test_size = 0.3)"
   ]
  },
  {
   "cell_type": "code",
   "execution_count": 16,
   "metadata": {},
   "outputs": [],
   "source": [
    "X_train= np.asarray(X_train)\n",
    "Y_train= np.asarray(Y_train)\n",
    "\n",
    "X_test= np.asarray(X_test)\n",
    "Y_test= np.asarray(Y_test)"
   ]
  },
  {
   "cell_type": "code",
   "execution_count": 17,
   "metadata": {},
   "outputs": [
    {
     "name": "stdout",
     "output_type": "stream",
     "text": [
      "Number of training samples:  468981\n",
      "Number of testing samples:  200992\n"
     ]
    }
   ],
   "source": [
    "print('Number of training samples: ', X_train.shape[0])\n",
    "print('Number of testing samples: ', X_test.shape[0])"
   ]
  },
  {
   "cell_type": "markdown",
   "metadata": {},
   "source": [
    "Normalisation - To scale input vectors individually to unit norm (vector length)"
   ]
  },
  {
   "cell_type": "code",
   "execution_count": 18,
   "metadata": {},
   "outputs": [],
   "source": [
    "normalized_X_train = Normalizer().fit_transform(X_train) \n",
    "normalized_X_test = Normalizer().fit_transform(X_test) "
   ]
  },
  {
   "cell_type": "markdown",
   "metadata": {},
   "source": [
    "#### Taking k value to be 3"
   ]
  },
  {
   "cell_type": "code",
   "execution_count": 21,
   "metadata": {},
   "outputs": [
    {
     "name": "stdout",
     "output_type": "stream",
     "text": [
      "0.7914494109218277\n"
     ]
    }
   ],
   "source": [
    "knn3 = KNeighborsClassifier(3)\n",
    "knn3.fit(normalized_X_train, Y_train.ravel())\n",
    "y_pred_sklearn = knn3.predict(normalized_X_test)\n",
    "print(accuracy_score(Y_test,y_pred_sklearn))"
   ]
  },
  {
   "cell_type": "markdown",
   "metadata": {},
   "source": [
    "We see that the accuracy is 79%. But this is for a randome value of k. Now, let us find out if we can get better accuracy with a different value of k"
   ]
  },
  {
   "cell_type": "markdown",
   "metadata": {},
   "source": [
    "### Finding the most optimal value of k to give us the best accuracy"
   ]
  },
  {
   "cell_type": "code",
   "execution_count": 30,
   "metadata": {},
   "outputs": [],
   "source": [
    "accuracy_rate = []\n",
    "for i in range(1,50,2):\n",
    "    knn = KNeighborsClassifier(i)\n",
    "    knn.fit(normalized_X_train,Y_train.ravel())\n",
    "    Y_pred = knn.predict(normalized_X_test)\n",
    "    accuracy_rate.append(accuracy_score(Y_test,Y_pred))"
   ]
  },
  {
   "cell_type": "code",
   "execution_count": 31,
   "metadata": {},
   "outputs": [
    {
     "data": {
      "text/plain": [
       "Text(0, 0.5, 'Accuracy Rate')"
      ]
     },
     "execution_count": 31,
     "metadata": {},
     "output_type": "execute_result"
    },
    {
     "data": {
      "image/png": "[encoded data removed]",
      "text/plain": [
       "<Figure size 1200x600 with 1 Axes>"
      ]
     },
     "metadata": {},
     "output_type": "display_data"
    }
   ],
   "source": [
    "plt.figure(figsize=(12, 6))\n",
    "plt.plot(range(1,50,2), accuracy_rate, color='red', linestyle='dashed', marker='o',\n",
    "        markerfacecolor='blue', markersize=10)\n",
    "plt.title('Accuracy Rate K Value')\n",
    "plt.xlabel('K Value')\n",
    "plt.ylabel('Accuracy Rate')"
   ]
  },
  {
   "cell_type": "markdown",
   "metadata": {},
   "source": [
    "##### Here, we see that choosing k value to be 11 gives us a higher accuracy without overfitting the model. We now found our optimal value for k!"
   ]
  },
  {
   "cell_type": "markdown",
   "metadata": {},
   "source": [
    "### Retraining the model with k = 11"
   ]
  },
  {
   "cell_type": "code",
   "execution_count": 21,
   "metadata": {},
   "outputs": [
    {
     "name": "stdout",
     "output_type": "stream",
     "text": [
      "0.8245203789205541\n"
     ]
    }
   ],
   "source": [
    "knn11 = KNeighborsClassifier(11)\n",
    "knn11.fit(normalized_X_train, Y_train.ravel())\n",
    "y_pred_sklearn = knn11.predict(normalized_X_test)\n",
    "print(accuracy_score(Y_test,y_pred_sklearn))"
   ]
  },
  {
   "cell_type": "markdown",
   "metadata": {},
   "source": [
    "#### Therefore, we see that we get an accuracy of 82.4% to predict whether an arrest will happen or no using K-Nearest Neighbors technique (K=11)"
   ]
  },
  {
   "cell_type": "code",
   "execution_count": 33,
   "metadata": {},
   "outputs": [
    {
     "data": {
      "text/plain": [
       "array([[162660,   3764],\n",
       "       [ 31668,   2900]])"
      ]
     },
     "execution_count": 33,
     "metadata": {},
     "output_type": "execute_result"
    }
   ],
   "source": [
    "conf_matrix_knn = confusion_matrix(Y_test,y_pred_sklearn)\n",
    "conf_matrix_knn"
   ]
  },
  {
   "cell_type": "code",
   "execution_count": 34,
   "metadata": {},
   "outputs": [
    {
     "data": {
      "image/png": "[encoded data removed]",
      "text/plain": [
       "<Figure size 640x480 with 2 Axes>"
      ]
     },
     "metadata": {},
     "output_type": "display_data"
    }
   ],
   "source": [
    "sns.set_style(\"darkgrid\")\n",
    "sns.heatmap(conf_matrix_knn, annot = True, fmt = \".3f\", square = True, cmap = plt.cm.Blues)\n",
    "plt.ylabel('Actual')\n",
    "plt.xlabel('Predicted')\n",
    "plt.title('Confusion matrix')\n",
    "plt.tight_layout()"
   ]
  },
  {
   "cell_type": "markdown",
   "metadata": {},
   "source": [
    "- To look more into this model, I created a confusion matrix showing the model’s prediction of arrest rate\n",
    "- You can see the largest value is a was a true positive: a true arrest prediction (162732). There are a significant amount of false negatives (31511) but very few false positives (3856)\n",
    "- I argue that false positives are worse than false negatives in this business case: if a crime company or the Chicago PD was to predict someone would get arrested, but they did not, it could persuade them to arrest someone that perhaps does not deserve it"
   ]
  },
  {
   "cell_type": "code",
   "execution_count": 35,
   "metadata": {},
   "outputs": [
    {
     "name": "stdout",
     "output_type": "stream",
     "text": [
      "              precision    recall  f1-score   support\n",
      "\n",
      "       False       0.84      0.98      0.90    166424\n",
      "        True       0.44      0.08      0.14     34568\n",
      "\n",
      "    accuracy                           0.82    200992\n",
      "   macro avg       0.64      0.53      0.52    200992\n",
      "weighted avg       0.77      0.82      0.77    200992\n",
      "\n"
     ]
    }
   ],
   "source": [
    "print(classification_report(Y_test,y_pred_sklearn))"
   ]
  },
  {
   "cell_type": "markdown",
   "metadata": {},
   "source": [
    "## Model 2: Random forest classifier with Hyperparameter tuning using RandomisedSearchCV"
   ]
  },
  {
   "cell_type": "code",
   "execution_count": 41,
   "metadata": {},
   "outputs": [],
   "source": [
    "crimes_df_clustering = crimes_df"
   ]
  },
  {
   "cell_type": "markdown",
   "metadata": {},
   "source": [
    "Splitting the dataset into training and testing in the ratio 70:30"
   ]
  },
  {
   "cell_type": "code",
   "execution_count": 42,
   "metadata": {},
   "outputs": [],
   "source": [
    "X_train, X_test, Y_train, Y_test = train_test_split(crimes_df_clustering.drop(['arrest'],axis = 1),crimes_df_clustering[['arrest']], test_size = 0.3, random_state = 0)"
   ]
  },
  {
   "cell_type": "markdown",
   "metadata": {},
   "source": [
    "Since our target column is arrest. We are dropping the column arrest while feeding in the X value and only giving in the arrest column while feeding the Y value (target)"
   ]
  },
  {
   "cell_type": "markdown",
   "metadata": {},
   "source": [
    "Standardising the data"
   ]
  },
  {
   "cell_type": "code",
   "execution_count": 45,
   "metadata": {},
   "outputs": [],
   "source": [
    "sc = StandardScaler()\n",
    "sc.fit(X_train)\n",
    "X_train_std = sc.transform(X_train)\n",
    "X_test_std = sc.transform(X_test)"
   ]
  },
  {
   "cell_type": "markdown",
   "metadata": {},
   "source": [
    "Standardising is done to improve the quality of data by removing the mean and scaling to unit variance"
   ]
  },
  {
   "cell_type": "code",
   "execution_count": 49,
   "metadata": {},
   "outputs": [],
   "source": [
    "model_params = {\n",
    "    'random_forest': {\n",
    "        'model': RandomForestClassifier(),\n",
    "        'params' : {\n",
    "            'n_estimators':list(range(100, 300, 10)),\n",
    "            'min_samples_leaf':list(range(1, 50)),\n",
    "            'max_depth':list(range(2, 20)),\n",
    "            'max_features':['log2', 'sqrt'],\n",
    "            'bootstrap':[True, False],\n",
    "            'criterion' : [\"gini\",\"entropy\"],\n",
    "        }\n",
    "    }\n",
    "}"
   ]
  },
  {
   "cell_type": "markdown",
   "metadata": {},
   "source": [
    "These are the different hyperparameters we want our model to check before arriving at an optimal set of parameters to give us the best model"
   ]
  },
  {
   "cell_type": "code",
   "execution_count": 330,
   "metadata": {},
   "outputs": [],
   "source": [
    "def my_custom_loss_func(y_true, y_pred):\n",
    "    p_score = accuracy_score(y_true, y_pred)\n",
    "    return p_score"
   ]
  },
  {
   "cell_type": "code",
   "execution_count": 331,
   "metadata": {},
   "outputs": [],
   "source": [
    "# K-FOLD SPLIT\n",
    "\n",
    "kfold_splits = 3\n",
    "kf = StratifiedKFold(n_splits=kfold_splits)\n",
    "custom_score = make_scorer(my_custom_loss_func, greater_is_better=True)\n",
    "model_list = []"
   ]
  },
  {
   "cell_type": "markdown",
   "metadata": {},
   "source": [
    "There are 2 ways we can do hyperparameter tuning:\n",
    "- GridSearchCV\n",
    "- RandomisedSearchCV  \n",
    "\n",
    "When we take a ML model there are different hyperparameters we need to work on and there can be different possibilities that a hyperparameter can take. \n",
    "\n",
    "1. GridSearchCV - When we use GridSearchCV technique, we will try to use all those values so in each time we will try to check that particular hyperparameter value and see which value is giving us the highest accuracy. Since GridSearchCV uses each and every combination to build and evaluate the model performance, this method is highly computational expensive\n",
    "\n",
    "2. RandomisedSearchCV - In this, instead of calculating the performance of the model for different combinations of hyperparameters, we will randomly select only few parameters and then we will try to find which is the best value"
   ]
  },
  {
   "cell_type": "markdown",
   "metadata": {},
   "source": [
    "I chose *RandomisedSearchCV* because we have many combinations of parameters. Running GridSearchCV would be very computationally intensive. "
   ]
  },
  {
   "cell_type": "code",
   "execution_count": 332,
   "metadata": {},
   "outputs": [
    {
     "name": "stdout",
     "output_type": "stream",
     "text": [
      "1\n",
      "2\n",
      "Fitting 3 folds for each of 10 candidates, totalling 30 fits\n",
      "[CV 3/3; 1/10] START bootstrap=False, criterion=entropy, max_depth=17, max_features=sqrt, min_samples_leaf=40, n_estimators=240\n",
      "[CV 2/3; 1/10] START bootstrap=False, criterion=entropy, max_depth=17, max_features=sqrt, min_samples_leaf=40, n_estimators=240\n",
      "[CV 1/3; 1/10] START bootstrap=False, criterion=entropy, max_depth=17, max_features=sqrt, min_samples_leaf=40, n_estimators=240\n",
      "[CV 1/3; 2/10] START bootstrap=True, criterion=gini, max_depth=12, max_features=sqrt, min_samples_leaf=47, n_estimators=150\n",
      "[CV 2/3; 3/10] START bootstrap=False, criterion=entropy, max_depth=11, max_features=log2, min_samples_leaf=11, n_estimators=170\n",
      "[CV 1/3; 3/10] START bootstrap=False, criterion=entropy, max_depth=11, max_features=log2, min_samples_leaf=11, n_estimators=170\n",
      "[CV 3/3; 2/10] START bootstrap=True, criterion=gini, max_depth=12, max_features=sqrt, min_samples_leaf=47, n_estimators=150\n",
      "[CV 2/3; 2/10] START bootstrap=True, criterion=gini, max_depth=12, max_features=sqrt, min_samples_leaf=47, n_estimators=150\n",
      "[CV 3/3; 3/10] START bootstrap=False, criterion=entropy, max_depth=11, max_features=log2, min_samples_leaf=11, n_estimators=170\n",
      "[CV 1/3; 4/10] START bootstrap=True, criterion=gini, max_depth=2, max_features=log2, min_samples_leaf=48, n_estimators=280\n",
      "[CV 2/3; 4/10] START bootstrap=True, criterion=gini, max_depth=2, max_features=log2, min_samples_leaf=48, n_estimators=280\n",
      "[CV 1/3; 4/10] END bootstrap=True, criterion=gini, max_depth=2, max_features=log2, min_samples_leaf=48, n_estimators=280;, score=0.829 total time= 1.9min\n",
      "[CV 2/3; 4/10] END bootstrap=True, criterion=gini, max_depth=2, max_features=log2, min_samples_leaf=48, n_estimators=280;, score=0.829 total time= 1.9min\n",
      "[CV 3/3; 4/10] START bootstrap=True, criterion=gini, max_depth=2, max_features=log2, min_samples_leaf=48, n_estimators=280\n",
      "[CV 1/3; 5/10] START bootstrap=True, criterion=entropy, max_depth=17, max_features=log2, min_samples_leaf=42, n_estimators=190\n",
      "[CV 3/3; 4/10] END bootstrap=True, criterion=gini, max_depth=2, max_features=log2, min_samples_leaf=48, n_estimators=280;, score=0.829 total time= 2.2min\n",
      "[CV 2/3; 5/10] START bootstrap=True, criterion=entropy, max_depth=17, max_features=log2, min_samples_leaf=42, n_estimators=190\n",
      "[CV 1/3; 2/10] END bootstrap=True, criterion=gini, max_depth=12, max_features=sqrt, min_samples_leaf=47, n_estimators=150;, score=0.898 total time= 4.9min\n",
      "[CV 3/3; 5/10] START bootstrap=True, criterion=entropy, max_depth=17, max_features=log2, min_samples_leaf=42, n_estimators=190\n",
      "[CV 2/3; 2/10] END bootstrap=True, criterion=gini, max_depth=12, max_features=sqrt, min_samples_leaf=47, n_estimators=150;, score=0.898 total time= 5.0min\n",
      "[CV 1/3; 6/10] START bootstrap=True, criterion=gini, max_depth=19, max_features=sqrt, min_samples_leaf=1, n_estimators=150\n",
      "[CV 3/3; 2/10] END bootstrap=True, criterion=gini, max_depth=12, max_features=sqrt, min_samples_leaf=47, n_estimators=150;, score=0.899 total time= 5.0min\n",
      "[CV 2/3; 6/10] START bootstrap=True, criterion=gini, max_depth=19, max_features=sqrt, min_samples_leaf=1, n_estimators=150\n",
      "[CV 3/3; 3/10] END bootstrap=False, criterion=entropy, max_depth=11, max_features=log2, min_samples_leaf=11, n_estimators=170;, score=0.899 total time= 8.6min\n",
      "[CV 3/3; 6/10] START bootstrap=True, criterion=gini, max_depth=19, max_features=sqrt, min_samples_leaf=1, n_estimators=150\n",
      "[CV 2/3; 3/10] END bootstrap=False, criterion=entropy, max_depth=11, max_features=log2, min_samples_leaf=11, n_estimators=170;, score=0.898 total time= 8.7min\n",
      "[CV 1/3; 7/10] START bootstrap=False, criterion=gini, max_depth=16, max_features=sqrt, min_samples_leaf=30, n_estimators=210\n",
      "[CV 1/3; 3/10] END bootstrap=False, criterion=entropy, max_depth=11, max_features=log2, min_samples_leaf=11, n_estimators=170;, score=0.898 total time= 8.8min\n",
      "[CV 2/3; 7/10] START bootstrap=False, criterion=gini, max_depth=16, max_features=sqrt, min_samples_leaf=30, n_estimators=210\n",
      "[CV 1/3; 5/10] END bootstrap=True, criterion=entropy, max_depth=17, max_features=log2, min_samples_leaf=42, n_estimators=190;, score=0.902 total time= 9.5min\n",
      "[CV 3/3; 7/10] START bootstrap=False, criterion=gini, max_depth=16, max_features=sqrt, min_samples_leaf=30, n_estimators=210\n",
      "[CV 1/3; 6/10] END bootstrap=True, criterion=gini, max_depth=19, max_features=sqrt, min_samples_leaf=1, n_estimators=150;, score=0.907 total time= 7.9min\n",
      "[CV 2/3; 6/10] END bootstrap=True, criterion=gini, max_depth=19, max_features=sqrt, min_samples_leaf=1, n_estimators=150;, score=0.907 total time= 7.8min\n",
      "[CV 1/3; 8/10] START bootstrap=True, criterion=gini, max_depth=12, max_features=log2, min_samples_leaf=47, n_estimators=240\n",
      "[CV 2/3; 8/10] START bootstrap=True, criterion=gini, max_depth=12, max_features=log2, min_samples_leaf=47, n_estimators=240\n",
      "[CV 2/3; 5/10] END bootstrap=True, criterion=entropy, max_depth=17, max_features=log2, min_samples_leaf=42, n_estimators=190;, score=0.902 total time= 9.8min\n",
      "[CV 3/3; 8/10] START bootstrap=True, criterion=gini, max_depth=12, max_features=log2, min_samples_leaf=47, n_estimators=240\n",
      "[CV 3/3; 5/10] END bootstrap=True, criterion=entropy, max_depth=17, max_features=log2, min_samples_leaf=42, n_estimators=190;, score=0.902 total time= 9.7min\n",
      "[CV 1/3; 9/10] START bootstrap=True, criterion=gini, max_depth=4, max_features=sqrt, min_samples_leaf=43, n_estimators=280\n",
      "[CV 3/3; 6/10] END bootstrap=True, criterion=gini, max_depth=19, max_features=sqrt, min_samples_leaf=1, n_estimators=150;, score=0.908 total time= 8.1min\n",
      "[CV 2/3; 9/10] START bootstrap=True, criterion=gini, max_depth=4, max_features=sqrt, min_samples_leaf=43, n_estimators=280\n",
      "[CV 1/3; 1/10] END bootstrap=False, criterion=entropy, max_depth=17, max_features=sqrt, min_samples_leaf=40, n_estimators=240;, score=0.903 total time=17.0min\n",
      "[CV 3/3; 9/10] START bootstrap=True, criterion=gini, max_depth=4, max_features=sqrt, min_samples_leaf=43, n_estimators=280\n",
      "[CV 2/3; 1/10] END bootstrap=False, criterion=entropy, max_depth=17, max_features=sqrt, min_samples_leaf=40, n_estimators=240;, score=0.903 total time=17.0min\n",
      "[CV 3/3; 1/10] END bootstrap=False, criterion=entropy, max_depth=17, max_features=sqrt, min_samples_leaf=40, n_estimators=240;, score=0.904 total time=17.0min\n",
      "[CV 2/3; 10/10] START bootstrap=False, criterion=gini, max_depth=5, max_features=sqrt, min_samples_leaf=14, n_estimators=190\n",
      "[CV 1/3; 10/10] START bootstrap=False, criterion=gini, max_depth=5, max_features=sqrt, min_samples_leaf=14, n_estimators=190\n",
      "[CV 1/3; 9/10] END bootstrap=True, criterion=gini, max_depth=4, max_features=sqrt, min_samples_leaf=43, n_estimators=280;, score=0.840 total time= 4.0min\n",
      "[CV 3/3; 10/10] START bootstrap=False, criterion=gini, max_depth=5, max_features=sqrt, min_samples_leaf=14, n_estimators=190\n",
      "[CV 2/3; 9/10] END bootstrap=True, criterion=gini, max_depth=4, max_features=sqrt, min_samples_leaf=43, n_estimators=280;, score=0.840 total time= 3.3min\n",
      "[CV 3/3; 9/10] END bootstrap=True, criterion=gini, max_depth=4, max_features=sqrt, min_samples_leaf=43, n_estimators=280;, score=0.840 total time= 3.2min\n",
      "[CV 2/3; 10/10] END bootstrap=False, criterion=gini, max_depth=5, max_features=sqrt, min_samples_leaf=14, n_estimators=190;, score=0.856 total time= 3.4min\n",
      "[CV 1/3; 10/10] END bootstrap=False, criterion=gini, max_depth=5, max_features=sqrt, min_samples_leaf=14, n_estimators=190;, score=0.856 total time= 3.4min\n",
      "[CV 2/3; 8/10] END bootstrap=True, criterion=gini, max_depth=12, max_features=log2, min_samples_leaf=47, n_estimators=240;, score=0.898 total time= 7.8min\n",
      "[CV 1/3; 8/10] END bootstrap=True, criterion=gini, max_depth=12, max_features=log2, min_samples_leaf=47, n_estimators=240;, score=0.898 total time= 7.8min\n",
      "[CV 1/3; 7/10] END bootstrap=False, criterion=gini, max_depth=16, max_features=sqrt, min_samples_leaf=30, n_estimators=210;, score=0.903 total time=11.9min\n",
      "[CV 2/3; 7/10] END bootstrap=False, criterion=gini, max_depth=16, max_features=sqrt, min_samples_leaf=30, n_estimators=210;, score=0.904 total time=11.9min\n",
      "[CV 3/3; 8/10] END bootstrap=True, criterion=gini, max_depth=12, max_features=log2, min_samples_leaf=47, n_estimators=240;, score=0.899 total time= 7.0min\n",
      "[CV 3/3; 10/10] END bootstrap=False, criterion=gini, max_depth=5, max_features=sqrt, min_samples_leaf=14, n_estimators=190;, score=0.854 total time= 2.5min\n",
      "[CV 3/3; 7/10] END bootstrap=False, criterion=gini, max_depth=16, max_features=sqrt, min_samples_leaf=30, n_estimators=210;, score=0.905 total time=10.1min\n",
      "3\n"
     ]
    },
    {
     "name": "stderr",
     "output_type": "stream",
     "text": [
      "/Library/Frameworks/Python.framework/Versions/3.10/lib/python3.10/site-packages/sklearn/base.py:450: UserWarning: X does not have valid feature names, but RandomForestClassifier was fitted with feature names\n",
      "  warnings.warn(\n"
     ]
    },
    {
     "name": "stdout",
     "output_type": "stream",
     "text": [
      "4\n"
     ]
    }
   ],
   "source": [
    "for model_name, mp in model_params.items():\n",
    "    print(\"1\")\n",
    "    clf_recall = RandomizedSearchCV(mp['model'], mp['params'], n_jobs=11, cv=kf, scoring=custom_score, verbose=10, return_train_score=False)\n",
    "    print(\"2\")\n",
    "    clf_recall.fit(X_train, Y_train.values.ravel())\n",
    "    print(\"3\")\n",
    "    Y_predict = clf_recall.predict(X_test_std)\n",
    "    print(\"4\")\n",
    "    confusion_matrix_RF = confusion_matrix(Y_test, Y_predict)"
   ]
  },
  {
   "cell_type": "markdown",
   "metadata": {},
   "source": [
    "Using best_params_ we get the best set of hyperparameters that will give us the most optimal result"
   ]
  },
  {
   "cell_type": "code",
   "execution_count": 65,
   "metadata": {},
   "outputs": [
    {
     "data": {
      "text/plain": [
       "['Random_Search.pkl']"
      ]
     },
     "execution_count": 65,
     "metadata": {},
     "output_type": "execute_result"
    }
   ],
   "source": [
    "#------------------------Saving Random Search------------------------------\n",
    "model_file = 'Random_Search.pkl'\n",
    "joblib.dump(clf_recall, model_file)"
   ]
  },
  {
   "cell_type": "code",
   "execution_count": 333,
   "metadata": {},
   "outputs": [
    {
     "name": "stdout",
     "output_type": "stream",
     "text": [
      "{'n_estimators': 150, 'min_samples_leaf': 1, 'max_features': 'sqrt', 'max_depth': 19, 'criterion': 'gini', 'bootstrap': True}\n"
     ]
    }
   ],
   "source": [
    "print(clf_recall.best_params_)"
   ]
  },
  {
   "cell_type": "markdown",
   "metadata": {},
   "source": [
    "Using best_score_ we get the accuracy of our model using the best chosen combination of hyperparameters"
   ]
  },
  {
   "cell_type": "code",
   "execution_count": 334,
   "metadata": {},
   "outputs": [
    {
     "name": "stdout",
     "output_type": "stream",
     "text": [
      "0.9076209910422811\n"
     ]
    }
   ],
   "source": [
    "print(clf_recall.best_score_)"
   ]
  },
  {
   "cell_type": "code",
   "execution_count": 337,
   "metadata": {},
   "outputs": [],
   "source": [
    "model_rf = RandomForestClassifier(n_estimators=150, min_samples_leaf=1, max_features='sqrt', max_depth=19, criterion='gini', bootstrap=True)"
   ]
  },
  {
   "cell_type": "code",
   "execution_count": 338,
   "metadata": {},
   "outputs": [
    {
     "data": {
      "text/html": [
       "<style>#sk-container-id-4 {color: black;background-color: white;}#sk-container-id-4 pre{padding: 0;}#sk-container-id-4 div.sk-toggleable {background-color: white;}#sk-container-id-4 label.sk-toggleable__label {cursor: pointer;display: block;width: 100%;margin-bottom: 0;padding: 0.3em;box-sizing: border-box;text-align: center;}#sk-container-id-4 label.sk-toggleable__label-arrow:before {content: \"▸\";float: left;margin-right: 0.25em;color: #696969;}#sk-container-id-4 label.sk-toggleable__label-arrow:hover:before {color: black;}#sk-container-id-4 div.sk-estimator:hover label.sk-toggleable__label-arrow:before {color: black;}#sk-container-id-4 div.sk-toggleable__content {max-height: 0;max-width: 0;overflow: hidden;text-align: left;background-color: #f0f8ff;}#sk-container-id-4 div.sk-toggleable__content pre {margin: 0.2em;color: black;border-radius: 0.25em;background-color: #f0f8ff;}#sk-container-id-4 input.sk-toggleable__control:checked~div.sk-toggleable__content {max-height: 200px;max-width: 100%;overflow: auto;}#sk-container-id-4 input.sk-toggleable__control:checked~label.sk-toggleable__label-arrow:before {content: \"▾\";}#sk-container-id-4 div.sk-estimator input.sk-toggleable__control:checked~label.sk-toggleable__label {background-color: #d4ebff;}#sk-container-id-4 div.sk-label input.sk-toggleable__control:checked~label.sk-toggleable__label {background-color: #d4ebff;}#sk-container-id-4 input.sk-hidden--visually {border: 0;clip: rect(1px 1px 1px 1px);clip: rect(1px, 1px, 1px, 1px);height: 1px;margin: -1px;overflow: hidden;padding: 0;position: absolute;width: 1px;}#sk-container-id-4 div.sk-estimator {font-family: monospace;background-color: #f0f8ff;border: 1px dotted black;border-radius: 0.25em;box-sizing: border-box;margin-bottom: 0.5em;}#sk-container-id-4 div.sk-estimator:hover {background-color: #d4ebff;}#sk-container-id-4 div.sk-parallel-item::after {content: \"\";width: 100%;border-bottom: 1px solid gray;flex-grow: 1;}#sk-container-id-4 div.sk-label:hover label.sk-toggleable__label {background-color: #d4ebff;}#sk-container-id-4 div.sk-serial::before {content: \"\";position: absolute;border-left: 1px solid gray;box-sizing: border-box;top: 0;bottom: 0;left: 50%;z-index: 0;}#sk-container-id-4 div.sk-serial {display: flex;flex-direction: column;align-items: center;background-color: white;padding-right: 0.2em;padding-left: 0.2em;position: relative;}#sk-container-id-4 div.sk-item {position: relative;z-index: 1;}#sk-container-id-4 div.sk-parallel {display: flex;align-items: stretch;justify-content: center;background-color: white;position: relative;}#sk-container-id-4 div.sk-item::before, #sk-container-id-4 div.sk-parallel-item::before {content: \"\";position: absolute;border-left: 1px solid gray;box-sizing: border-box;top: 0;bottom: 0;left: 50%;z-index: -1;}#sk-container-id-4 div.sk-parallel-item {display: flex;flex-direction: column;z-index: 1;position: relative;background-color: white;}#sk-container-id-4 div.sk-parallel-item:first-child::after {align-self: flex-end;width: 50%;}#sk-container-id-4 div.sk-parallel-item:last-child::after {align-self: flex-start;width: 50%;}#sk-container-id-4 div.sk-parallel-item:only-child::after {width: 0;}#sk-container-id-4 div.sk-dashed-wrapped {border: 1px dashed gray;margin: 0 0.4em 0.5em 0.4em;box-sizing: border-box;padding-bottom: 0.4em;background-color: white;}#sk-container-id-4 div.sk-label label {font-family: monospace;font-weight: bold;display: inline-block;line-height: 1.2em;}#sk-container-id-4 div.sk-label-container {text-align: center;}#sk-container-id-4 div.sk-container {/* jupyter's `normalize.less` sets `[hidden] { display: none; }` but bootstrap.min.css set `[hidden] { display: none !important; }` so we also need the `!important` here to be able to override the default hidden behavior on the sphinx rendered scikit-learn.org. See: https://github.com/scikit-learn/scikit-learn/issues/21755 */display: inline-block !important;position: relative;}#sk-container-id-4 div.sk-text-repr-fallback {display: none;}</style><div id=\"sk-container-id-4\" class=\"sk-top-container\"><div class=\"sk-text-repr-fallback\"><pre>RandomForestClassifier(max_depth=19, n_estimators=150)</pre><b>In a Jupyter environment, please rerun this cell to show the HTML representation or trust the notebook. <br />On GitHub, the HTML representation is unable to render, please try loading this page with nbviewer.org.</b></div><div class=\"sk-container\" hidden><div class=\"sk-item\"><div class=\"sk-estimator sk-toggleable\"><input class=\"sk-toggleable__control sk-hidden--visually\" id=\"sk-estimator-id-4\" type=\"checkbox\" checked><label for=\"sk-estimator-id-4\" class=\"sk-toggleable__label sk-toggleable__label-arrow\">RandomForestClassifier</label><div class=\"sk-toggleable__content\"><pre>RandomForestClassifier(max_depth=19, n_estimators=150)</pre></div></div></div></div></div>"
      ],
      "text/plain": [
       "RandomForestClassifier(max_depth=19, n_estimators=150)"
      ]
     },
     "execution_count": 338,
     "metadata": {},
     "output_type": "execute_result"
    }
   ],
   "source": [
    "model_rf.fit(X_train,Y_train.values.ravel())"
   ]
  },
  {
   "cell_type": "markdown",
   "metadata": {},
   "source": [
    "Predicting using the test data from train-test-split"
   ]
  },
  {
   "cell_type": "code",
   "execution_count": 341,
   "metadata": {},
   "outputs": [],
   "source": [
    "y_pred_random_forest = model_rf.predict(X_test)"
   ]
  },
  {
   "cell_type": "code",
   "execution_count": 342,
   "metadata": {},
   "outputs": [
    {
     "name": "stdout",
     "output_type": "stream",
     "text": [
      "Accuracy =  0.9083097834739691\n"
     ]
    }
   ],
   "source": [
    "print('Accuracy = ',accuracy_score(Y_test, y_pred_random_forest))"
   ]
  },
  {
   "cell_type": "markdown",
   "metadata": {},
   "source": [
    "The accuracy has significantly increased using Random Forest classifier with hyperparameter tuning. We achieved the highest accuracy of 90.83% i.e., our predictions are 90+% correct to give us the right prediction whether an arrest will happen or no"
   ]
  },
  {
   "cell_type": "code",
   "execution_count": 343,
   "metadata": {},
   "outputs": [
    {
     "name": "stdout",
     "output_type": "stream",
     "text": [
      "[[165067   1617]\n",
      " [ 16812  17496]]\n"
     ]
    }
   ],
   "source": [
    "conf_matrix_RF = confusion_matrix(Y_test, y_pred_random_forest)\n",
    "print(conf_matrix_RF)"
   ]
  },
  {
   "cell_type": "code",
   "execution_count": 344,
   "metadata": {},
   "outputs": [
    {
     "data": {
      "image/png": "[encoded data removed]",
      "text/plain": [
       "<Figure size 800x550 with 2 Axes>"
      ]
     },
     "metadata": {},
     "output_type": "display_data"
    }
   ],
   "source": [
    "sns.set_style(\"darkgrid\")\n",
    "sns.heatmap(conf_matrix_RF, annot = True, fmt = \".3f\", square = True, cmap = plt.cm.Blues)\n",
    "plt.ylabel('Actual')\n",
    "plt.xlabel('Predicted')\n",
    "plt.title('Confusion matrix')\n",
    "plt.tight_layout()"
   ]
  },
  {
   "cell_type": "markdown",
   "metadata": {},
   "source": [
    "Confusion matrix showing the model’s prediction of arrest rate. You can see the largest value is a true positive: a true arrest prediction (165067). There are also a good number of true negatives which would rightly predict when the arrest won't happen,\n"
   ]
  },
  {
   "cell_type": "code",
   "execution_count": 345,
   "metadata": {},
   "outputs": [
    {
     "name": "stdout",
     "output_type": "stream",
     "text": [
      "The false positive rate is:   0.9700991096925919 %\n"
     ]
    }
   ],
   "source": [
    "TN = conf_matrix_RF[0][0]\n",
    "FN = conf_matrix_RF[1][0]\n",
    "TP = conf_matrix_RF[1][1]\n",
    "FP = conf_matrix_RF[0][1]\n",
    "            \n",
    "FPR = (FP/(FP+TN)) * 100\n",
    "print(\"The false positive rate is:  \",FPR,\"%\")"
   ]
  },
  {
   "cell_type": "markdown",
   "metadata": {},
   "source": [
    "- There are very few false positives (1617) and the False Positive Rate (FPR) is 0.97% which is low. So, in the case when an actual arrest does not happen, our model does not predict that it has happened (which could be very dangerous)\n",
    "- There are still a lot of False negatives but this isn't as much as an issue because we are not falsely predicting that people are arrested\n",
    "- This ensures innocent people are not falsely accused even though a few criminals are not proven guilty"
   ]
  },
  {
   "cell_type": "markdown",
   "metadata": {},
   "source": [
    "View the classification report for test data and predictions"
   ]
  },
  {
   "cell_type": "code",
   "execution_count": 346,
   "metadata": {},
   "outputs": [
    {
     "name": "stdout",
     "output_type": "stream",
     "text": [
      "              precision    recall  f1-score   support\n",
      "\n",
      "       False       0.91      0.99      0.95    166684\n",
      "        True       0.92      0.51      0.66     34308\n",
      "\n",
      "    accuracy                           0.91    200992\n",
      "   macro avg       0.91      0.75      0.80    200992\n",
      "weighted avg       0.91      0.91      0.90    200992\n",
      "\n"
     ]
    }
   ],
   "source": [
    "print(classification_report(Y_test, y_pred_random_forest))"
   ]
  },
  {
   "cell_type": "code",
   "execution_count": 347,
   "metadata": {},
   "outputs": [],
   "source": [
    "from yellowbrick.classifier import ClassificationReport"
   ]
  },
  {
   "cell_type": "code",
   "execution_count": 348,
   "metadata": {},
   "outputs": [
    {
     "name": "stderr",
     "output_type": "stream",
     "text": [
      "/Library/Frameworks/Python.framework/Versions/3.10/lib/python3.10/site-packages/sklearn/base.py:450: UserWarning: X does not have valid feature names, but RandomForestClassifier was fitted with feature names\n",
      "  warnings.warn(\n"
     ]
    },
    {
     "data": {
      "image/png": "[encoded data removed]",
      "text/plain": [
       "<Figure size 800x550 with 2 Axes>"
      ]
     },
     "metadata": {},
     "output_type": "display_data"
    },
    {
     "data": {
      "text/plain": [
       "<AxesSubplot: title={'center': 'RandomForestClassifier Classification Report'}>"
      ]
     },
     "execution_count": 348,
     "metadata": {},
     "output_type": "execute_result"
    }
   ],
   "source": [
    "classes=['no arrest','arrest']\n",
    "\n",
    "visualizer = ClassificationReport(model_rf, classes=classes, support=True)\n",
    "visualizer.fit(X_train, Y_train)        # Fit the visualizer and the model\n",
    "visualizer.score(X_test, Y_test)        # Evaluate the model on the test data\n",
    "visualizer.show()"
   ]
  },
  {
   "cell_type": "markdown",
   "metadata": {},
   "source": [
    "#### Prediction on test data"
   ]
  },
  {
   "cell_type": "markdown",
   "metadata": {},
   "source": [
    "Here, I am using the data of the current year (2022) for validation"
   ]
  },
  {
   "cell_type": "code",
   "execution_count": 309,
   "metadata": {},
   "outputs": [],
   "source": [
    "crimes_df_validation_rf = pd.read_csv('Crimes-2022.csv')"
   ]
  },
  {
   "cell_type": "code",
   "execution_count": 310,
   "metadata": {},
   "outputs": [
    {
     "data": {
      "text/html": [
       "<div>\n",
       "<style scoped>\n",
       "    .dataframe tbody tr th:only-of-type {\n",
       "        vertical-align: middle;\n",
       "    }\n",
       "\n",
       "    .dataframe tbody tr th {\n",
       "        vertical-align: top;\n",
       "    }\n",
       "\n",
       "    .dataframe thead th {\n",
       "        text-align: right;\n",
       "    }\n",
       "</style>\n",
       "<table border=\"1\" class=\"dataframe\">\n",
       "  <thead>\n",
       "    <tr style=\"text-align: right;\">\n",
       "      <th></th>\n",
       "      <th>ID</th>\n",
       "      <th>Case Number</th>\n",
       "      <th>Date</th>\n",
       "      <th>Block</th>\n",
       "      <th>IUCR</th>\n",
       "      <th>Primary Type</th>\n",
       "      <th>Description</th>\n",
       "      <th>Location Description</th>\n",
       "      <th>Arrest</th>\n",
       "      <th>Domestic</th>\n",
       "      <th>...</th>\n",
       "      <th>Ward</th>\n",
       "      <th>Community Area</th>\n",
       "      <th>FBI Code</th>\n",
       "      <th>X Coordinate</th>\n",
       "      <th>Y Coordinate</th>\n",
       "      <th>Year</th>\n",
       "      <th>Updated On</th>\n",
       "      <th>Latitude</th>\n",
       "      <th>Longitude</th>\n",
       "      <th>Location</th>\n",
       "    </tr>\n",
       "  </thead>\n",
       "  <tbody>\n",
       "    <tr>\n",
       "      <th>0</th>\n",
       "      <td>12789250</td>\n",
       "      <td>JF351068</td>\n",
       "      <td>01/01/2022 12:00:00 AM</td>\n",
       "      <td>079XX S ST LAWRENCE AVE</td>\n",
       "      <td>0810</td>\n",
       "      <td>THEFT</td>\n",
       "      <td>OVER $500</td>\n",
       "      <td>RESIDENCE</td>\n",
       "      <td>False</td>\n",
       "      <td>False</td>\n",
       "      <td>...</td>\n",
       "      <td>6.0</td>\n",
       "      <td>44</td>\n",
       "      <td>06</td>\n",
       "      <td>1181612.0</td>\n",
       "      <td>1852489.0</td>\n",
       "      <td>2022</td>\n",
       "      <td>11/12/2022 03:46:21 PM</td>\n",
       "      <td>41.750462</td>\n",
       "      <td>-87.610059</td>\n",
       "      <td>(41.75046233, -87.610058986)</td>\n",
       "    </tr>\n",
       "    <tr>\n",
       "      <th>1</th>\n",
       "      <td>12783300</td>\n",
       "      <td>JF343908</td>\n",
       "      <td>01/01/2022 12:00:00 AM</td>\n",
       "      <td>007XX N MICHIGAN AVE</td>\n",
       "      <td>0580</td>\n",
       "      <td>STALKING</td>\n",
       "      <td>SIMPLE</td>\n",
       "      <td>STREET</td>\n",
       "      <td>False</td>\n",
       "      <td>False</td>\n",
       "      <td>...</td>\n",
       "      <td>42.0</td>\n",
       "      <td>8</td>\n",
       "      <td>08A</td>\n",
       "      <td>1177293.0</td>\n",
       "      <td>1905597.0</td>\n",
       "      <td>2022</td>\n",
       "      <td>11/12/2022 03:46:21 PM</td>\n",
       "      <td>41.896294</td>\n",
       "      <td>-87.624280</td>\n",
       "      <td>(41.896293625, -87.624279611)</td>\n",
       "    </tr>\n",
       "    <tr>\n",
       "      <th>2</th>\n",
       "      <td>12814497</td>\n",
       "      <td>JF380963</td>\n",
       "      <td>01/01/2022 12:00:00 AM</td>\n",
       "      <td>047XX W WABANSIA AVE</td>\n",
       "      <td>1563</td>\n",
       "      <td>SEX OFFENSE</td>\n",
       "      <td>CRIMINAL SEXUAL ABUSE</td>\n",
       "      <td>RESIDENCE - GARAGE</td>\n",
       "      <td>False</td>\n",
       "      <td>True</td>\n",
       "      <td>...</td>\n",
       "      <td>37.0</td>\n",
       "      <td>25</td>\n",
       "      <td>17</td>\n",
       "      <td>1144610.0</td>\n",
       "      <td>1910885.0</td>\n",
       "      <td>2022</td>\n",
       "      <td>11/12/2022 03:46:21 PM</td>\n",
       "      <td>41.911483</td>\n",
       "      <td>-87.744185</td>\n",
       "      <td>(41.911482929, -87.744185282)</td>\n",
       "    </tr>\n",
       "    <tr>\n",
       "      <th>3</th>\n",
       "      <td>12822046</td>\n",
       "      <td>JF389504</td>\n",
       "      <td>01/01/2022 12:00:00 AM</td>\n",
       "      <td>039XX N PINE GROVE AVE</td>\n",
       "      <td>1153</td>\n",
       "      <td>DECEPTIVE PRACTICE</td>\n",
       "      <td>FINANCIAL IDENTITY THEFT OVER $ 300</td>\n",
       "      <td>APARTMENT</td>\n",
       "      <td>False</td>\n",
       "      <td>False</td>\n",
       "      <td>...</td>\n",
       "      <td>46.0</td>\n",
       "      <td>6</td>\n",
       "      <td>11</td>\n",
       "      <td>1170694.0</td>\n",
       "      <td>1926410.0</td>\n",
       "      <td>2022</td>\n",
       "      <td>11/12/2022 03:46:21 PM</td>\n",
       "      <td>41.953553</td>\n",
       "      <td>-87.647905</td>\n",
       "      <td>(41.953552585, -87.647905229)</td>\n",
       "    </tr>\n",
       "    <tr>\n",
       "      <th>4</th>\n",
       "      <td>12836994</td>\n",
       "      <td>JF403613</td>\n",
       "      <td>01/01/2022 12:00:00 AM</td>\n",
       "      <td>042XX W WASHINGTON BLVD</td>\n",
       "      <td>1750</td>\n",
       "      <td>OFFENSE INVOLVING CHILDREN</td>\n",
       "      <td>CHILD ABUSE</td>\n",
       "      <td>RESIDENCE</td>\n",
       "      <td>False</td>\n",
       "      <td>True</td>\n",
       "      <td>...</td>\n",
       "      <td>28.0</td>\n",
       "      <td>26</td>\n",
       "      <td>08B</td>\n",
       "      <td>1148076.0</td>\n",
       "      <td>1900155.0</td>\n",
       "      <td>2022</td>\n",
       "      <td>11/12/2022 03:46:21 PM</td>\n",
       "      <td>41.881973</td>\n",
       "      <td>-87.731729</td>\n",
       "      <td>(41.881972634, -87.731728591)</td>\n",
       "    </tr>\n",
       "  </tbody>\n",
       "</table>\n",
       "<p>5 rows × 22 columns</p>\n",
       "</div>"
      ],
      "text/plain": [
       "         ID Case Number                    Date                    Block  \\\n",
       "0  12789250    JF351068  01/01/2022 12:00:00 AM  079XX S ST LAWRENCE AVE   \n",
       "1  12783300    JF343908  01/01/2022 12:00:00 AM     007XX N MICHIGAN AVE   \n",
       "2  12814497    JF380963  01/01/2022 12:00:00 AM     047XX W WABANSIA AVE   \n",
       "3  12822046    JF389504  01/01/2022 12:00:00 AM   039XX N PINE GROVE AVE   \n",
       "4  12836994    JF403613  01/01/2022 12:00:00 AM  042XX W WASHINGTON BLVD   \n",
       "\n",
       "   IUCR                Primary Type                          Description  \\\n",
       "0  0810                       THEFT                            OVER $500   \n",
       "1  0580                    STALKING                               SIMPLE   \n",
       "2  1563                 SEX OFFENSE                CRIMINAL SEXUAL ABUSE   \n",
       "3  1153          DECEPTIVE PRACTICE  FINANCIAL IDENTITY THEFT OVER $ 300   \n",
       "4  1750  OFFENSE INVOLVING CHILDREN                          CHILD ABUSE   \n",
       "\n",
       "  Location Description  Arrest  Domestic  ...  Ward  Community Area  FBI Code  \\\n",
       "0            RESIDENCE   False     False  ...   6.0              44        06   \n",
       "1               STREET   False     False  ...  42.0               8       08A   \n",
       "2   RESIDENCE - GARAGE   False      True  ...  37.0              25        17   \n",
       "3            APARTMENT   False     False  ...  46.0               6        11   \n",
       "4            RESIDENCE   False      True  ...  28.0              26       08B   \n",
       "\n",
       "   X Coordinate Y Coordinate  Year              Updated On   Latitude  \\\n",
       "0     1181612.0    1852489.0  2022  11/12/2022 03:46:21 PM  41.750462   \n",
       "1     1177293.0    1905597.0  2022  11/12/2022 03:46:21 PM  41.896294   \n",
       "2     1144610.0    1910885.0  2022  11/12/2022 03:46:21 PM  41.911483   \n",
       "3     1170694.0    1926410.0  2022  11/12/2022 03:46:21 PM  41.953553   \n",
       "4     1148076.0    1900155.0  2022  11/12/2022 03:46:21 PM  41.881973   \n",
       "\n",
       "   Longitude                       Location  \n",
       "0 -87.610059   (41.75046233, -87.610058986)  \n",
       "1 -87.624280  (41.896293625, -87.624279611)  \n",
       "2 -87.744185  (41.911482929, -87.744185282)  \n",
       "3 -87.647905  (41.953552585, -87.647905229)  \n",
       "4 -87.731729  (41.881972634, -87.731728591)  \n",
       "\n",
       "[5 rows x 22 columns]"
      ]
     },
     "execution_count": 310,
     "metadata": {},
     "output_type": "execute_result"
    }
   ],
   "source": [
    "crimes_df_validation_rf.head()"
   ]
  },
  {
   "cell_type": "markdown",
   "metadata": {},
   "source": [
    "Performing all the initial data prep as done for the training dataset"
   ]
  },
  {
   "cell_type": "code",
   "execution_count": 312,
   "metadata": {},
   "outputs": [],
   "source": [
    "crimes_df_validation_rf.columns = crimes_df_validation_rf.columns.str.strip()\n",
    "crimes_df_validation_rf.columns = crimes_df_validation_rf.columns.str.replace(' ', '_')\n",
    "crimes_df_validation_rf.columns = crimes_df_validation_rf.columns.str.lower()\n",
    "\n",
    "crimes_df_validation_rf.dropna(subset = ['latitude','longitude','ward'], inplace = True)\n",
    "crimes_df_validation_rf.reset_index(drop = True, inplace = True)\n",
    "\n",
    "crimes_df_validation_rf.drop(['location','case_number'], axis = 1, inplace = True)\n",
    "\n",
    "crimes_df_validation_rf = crimes_df_validation_rf.drop(['description','fbi_code','date','updated_on'],axis=1)\n",
    "\n",
    "crimes_df_validation_rf['location_description'] = crimes_df_validation_rf['location_description'].fillna('Unavailable')"
   ]
  },
  {
   "cell_type": "code",
   "execution_count": 316,
   "metadata": {},
   "outputs": [],
   "source": [
    "crimes_df_validation_rf['iucr'] = crimes_df_validation_rf['iucr'].astype('category')\n",
    "crimes_df_validation_rf['block'] = crimes_df_validation_rf['block'].astype('category')\n",
    "crimes_df_validation_rf['primary_type'] = crimes_df_validation_rf['primary_type'].astype('category')\n",
    "crimes_df_validation_rf['location_description'] = crimes_df_validation_rf['location_description'].astype('category')\n",
    "\n",
    "crimes_df_validation_rf['iucr'] = crimes_df_validation_rf['iucr'].cat.codes\n",
    "crimes_df_validation_rf['block'] = crimes_df_validation_rf['block'].cat.codes\n",
    "crimes_df_validation_rf['primary_type'] = crimes_df_validation_rf['primary_type'].cat.codes\n",
    "crimes_df_validation_rf['location_description'] = crimes_df_validation_rf['location_description'].cat.codes"
   ]
  },
  {
   "cell_type": "markdown",
   "metadata": {},
   "source": [
    "Dividing dependent and independent variables"
   ]
  },
  {
   "cell_type": "code",
   "execution_count": 317,
   "metadata": {},
   "outputs": [],
   "source": [
    "X_validate = crimes_df_validation_rf.drop(['arrest'],axis=1)"
   ]
  },
  {
   "cell_type": "code",
   "execution_count": 318,
   "metadata": {},
   "outputs": [],
   "source": [
    "model_load_rf = joblib.load('Random_Search.pkl')"
   ]
  },
  {
   "cell_type": "markdown",
   "metadata": {},
   "source": [
    "Prediction"
   ]
  },
  {
   "cell_type": "code",
   "execution_count": 319,
   "metadata": {},
   "outputs": [
    {
     "data": {
      "text/plain": [
       "array([False, False, False, ..., False, False, False])"
      ]
     },
     "execution_count": 319,
     "metadata": {},
     "output_type": "execute_result"
    }
   ],
   "source": [
    "Y_predict_Validation = model_load_rf.predict(X_validate)\n",
    "Y_predict_Validation"
   ]
  },
  {
   "cell_type": "markdown",
   "metadata": {},
   "source": [
    "Appending a column predicted to store the predicted values"
   ]
  },
  {
   "cell_type": "code",
   "execution_count": 325,
   "metadata": {},
   "outputs": [],
   "source": [
    "crimes_df_validation_rf['predicted'] = pd.DataFrame(Y_predict_Validation,columns=['predicted'])"
   ]
  },
  {
   "cell_type": "code",
   "execution_count": 326,
   "metadata": {},
   "outputs": [
    {
     "data": {
      "text/html": [
       "<div>\n",
       "<style scoped>\n",
       "    .dataframe tbody tr th:only-of-type {\n",
       "        vertical-align: middle;\n",
       "    }\n",
       "\n",
       "    .dataframe tbody tr th {\n",
       "        vertical-align: top;\n",
       "    }\n",
       "\n",
       "    .dataframe thead th {\n",
       "        text-align: right;\n",
       "    }\n",
       "</style>\n",
       "<table border=\"1\" class=\"dataframe\">\n",
       "  <thead>\n",
       "    <tr style=\"text-align: right;\">\n",
       "      <th></th>\n",
       "      <th>id</th>\n",
       "      <th>block</th>\n",
       "      <th>iucr</th>\n",
       "      <th>primary_type</th>\n",
       "      <th>location_description</th>\n",
       "      <th>arrest</th>\n",
       "      <th>domestic</th>\n",
       "      <th>beat</th>\n",
       "      <th>district</th>\n",
       "      <th>ward</th>\n",
       "      <th>community_area</th>\n",
       "      <th>x_coordinate</th>\n",
       "      <th>y_coordinate</th>\n",
       "      <th>year</th>\n",
       "      <th>latitude</th>\n",
       "      <th>longitude</th>\n",
       "      <th>predicted</th>\n",
       "    </tr>\n",
       "  </thead>\n",
       "  <tbody>\n",
       "    <tr>\n",
       "      <th>0</th>\n",
       "      <td>12789250</td>\n",
       "      <td>23468</td>\n",
       "      <td>75</td>\n",
       "      <td>29</td>\n",
       "      <td>100</td>\n",
       "      <td>False</td>\n",
       "      <td>False</td>\n",
       "      <td>624</td>\n",
       "      <td>6</td>\n",
       "      <td>6.0</td>\n",
       "      <td>44</td>\n",
       "      <td>1181612.0</td>\n",
       "      <td>1852489.0</td>\n",
       "      <td>2022</td>\n",
       "      <td>41.750462</td>\n",
       "      <td>-87.610059</td>\n",
       "      <td>False</td>\n",
       "    </tr>\n",
       "    <tr>\n",
       "      <th>1</th>\n",
       "      <td>12783300</td>\n",
       "      <td>3014</td>\n",
       "      <td>68</td>\n",
       "      <td>28</td>\n",
       "      <td>116</td>\n",
       "      <td>False</td>\n",
       "      <td>False</td>\n",
       "      <td>1833</td>\n",
       "      <td>18</td>\n",
       "      <td>42.0</td>\n",
       "      <td>8</td>\n",
       "      <td>1177293.0</td>\n",
       "      <td>1905597.0</td>\n",
       "      <td>2022</td>\n",
       "      <td>41.896294</td>\n",
       "      <td>-87.624280</td>\n",
       "      <td>False</td>\n",
       "    </tr>\n",
       "    <tr>\n",
       "      <th>2</th>\n",
       "      <td>12814497</td>\n",
       "      <td>16584</td>\n",
       "      <td>169</td>\n",
       "      <td>27</td>\n",
       "      <td>101</td>\n",
       "      <td>False</td>\n",
       "      <td>True</td>\n",
       "      <td>2533</td>\n",
       "      <td>25</td>\n",
       "      <td>37.0</td>\n",
       "      <td>25</td>\n",
       "      <td>1144610.0</td>\n",
       "      <td>1910885.0</td>\n",
       "      <td>2022</td>\n",
       "      <td>41.911483</td>\n",
       "      <td>-87.744185</td>\n",
       "      <td>False</td>\n",
       "    </tr>\n",
       "    <tr>\n",
       "      <th>3</th>\n",
       "      <td>12822046</td>\n",
       "      <td>14352</td>\n",
       "      <td>113</td>\n",
       "      <td>8</td>\n",
       "      <td>17</td>\n",
       "      <td>False</td>\n",
       "      <td>False</td>\n",
       "      <td>1925</td>\n",
       "      <td>19</td>\n",
       "      <td>46.0</td>\n",
       "      <td>6</td>\n",
       "      <td>1170694.0</td>\n",
       "      <td>1926410.0</td>\n",
       "      <td>2022</td>\n",
       "      <td>41.953553</td>\n",
       "      <td>-87.647905</td>\n",
       "      <td>False</td>\n",
       "    </tr>\n",
       "    <tr>\n",
       "      <th>4</th>\n",
       "      <td>12836994</td>\n",
       "      <td>15287</td>\n",
       "      <td>185</td>\n",
       "      <td>20</td>\n",
       "      <td>100</td>\n",
       "      <td>False</td>\n",
       "      <td>True</td>\n",
       "      <td>1114</td>\n",
       "      <td>11</td>\n",
       "      <td>28.0</td>\n",
       "      <td>26</td>\n",
       "      <td>1148076.0</td>\n",
       "      <td>1900155.0</td>\n",
       "      <td>2022</td>\n",
       "      <td>41.881973</td>\n",
       "      <td>-87.731729</td>\n",
       "      <td>False</td>\n",
       "    </tr>\n",
       "    <tr>\n",
       "      <th>...</th>\n",
       "      <td>...</td>\n",
       "      <td>...</td>\n",
       "      <td>...</td>\n",
       "      <td>...</td>\n",
       "      <td>...</td>\n",
       "      <td>...</td>\n",
       "      <td>...</td>\n",
       "      <td>...</td>\n",
       "      <td>...</td>\n",
       "      <td>...</td>\n",
       "      <td>...</td>\n",
       "      <td>...</td>\n",
       "      <td>...</td>\n",
       "      <td>...</td>\n",
       "      <td>...</td>\n",
       "      <td>...</td>\n",
       "      <td>...</td>\n",
       "    </tr>\n",
       "    <tr>\n",
       "      <th>211369</th>\n",
       "      <td>12904863</td>\n",
       "      <td>15535</td>\n",
       "      <td>131</td>\n",
       "      <td>5</td>\n",
       "      <td>116</td>\n",
       "      <td>False</td>\n",
       "      <td>False</td>\n",
       "      <td>1013</td>\n",
       "      <td>10</td>\n",
       "      <td>22.0</td>\n",
       "      <td>29</td>\n",
       "      <td>1148171.0</td>\n",
       "      <td>1888007.0</td>\n",
       "      <td>2022</td>\n",
       "      <td>41.848635</td>\n",
       "      <td>-87.731692</td>\n",
       "      <td>False</td>\n",
       "    </tr>\n",
       "    <tr>\n",
       "      <th>211370</th>\n",
       "      <td>12904587</td>\n",
       "      <td>17604</td>\n",
       "      <td>46</td>\n",
       "      <td>2</td>\n",
       "      <td>100</td>\n",
       "      <td>False</td>\n",
       "      <td>True</td>\n",
       "      <td>811</td>\n",
       "      <td>8</td>\n",
       "      <td>14.0</td>\n",
       "      <td>56</td>\n",
       "      <td>1134577.0</td>\n",
       "      <td>1869832.0</td>\n",
       "      <td>2022</td>\n",
       "      <td>41.799011</td>\n",
       "      <td>-87.782012</td>\n",
       "      <td>False</td>\n",
       "    </tr>\n",
       "    <tr>\n",
       "      <th>211371</th>\n",
       "      <td>12904961</td>\n",
       "      <td>14888</td>\n",
       "      <td>92</td>\n",
       "      <td>16</td>\n",
       "      <td>116</td>\n",
       "      <td>False</td>\n",
       "      <td>False</td>\n",
       "      <td>1912</td>\n",
       "      <td>19</td>\n",
       "      <td>47.0</td>\n",
       "      <td>5</td>\n",
       "      <td>1162927.0</td>\n",
       "      <td>1927726.0</td>\n",
       "      <td>2022</td>\n",
       "      <td>41.957331</td>\n",
       "      <td>-87.676420</td>\n",
       "      <td>False</td>\n",
       "    </tr>\n",
       "    <tr>\n",
       "      <th>211372</th>\n",
       "      <td>12904942</td>\n",
       "      <td>22858</td>\n",
       "      <td>75</td>\n",
       "      <td>29</td>\n",
       "      <td>116</td>\n",
       "      <td>False</td>\n",
       "      <td>False</td>\n",
       "      <td>624</td>\n",
       "      <td>6</td>\n",
       "      <td>6.0</td>\n",
       "      <td>69</td>\n",
       "      <td>1181872.0</td>\n",
       "      <td>1855091.0</td>\n",
       "      <td>2022</td>\n",
       "      <td>41.757596</td>\n",
       "      <td>-87.609026</td>\n",
       "      <td>False</td>\n",
       "    </tr>\n",
       "    <tr>\n",
       "      <th>211373</th>\n",
       "      <td>12904608</td>\n",
       "      <td>17266</td>\n",
       "      <td>146</td>\n",
       "      <td>30</td>\n",
       "      <td>116</td>\n",
       "      <td>True</td>\n",
       "      <td>False</td>\n",
       "      <td>923</td>\n",
       "      <td>9</td>\n",
       "      <td>14.0</td>\n",
       "      <td>63</td>\n",
       "      <td>1158892.0</td>\n",
       "      <td>1871119.0</td>\n",
       "      <td>2022</td>\n",
       "      <td>41.802080</td>\n",
       "      <td>-87.692807</td>\n",
       "      <td>False</td>\n",
       "    </tr>\n",
       "  </tbody>\n",
       "</table>\n",
       "<p>211374 rows × 17 columns</p>\n",
       "</div>"
      ],
      "text/plain": [
       "              id  block  iucr  primary_type  location_description  arrest  \\\n",
       "0       12789250  23468    75            29                   100   False   \n",
       "1       12783300   3014    68            28                   116   False   \n",
       "2       12814497  16584   169            27                   101   False   \n",
       "3       12822046  14352   113             8                    17   False   \n",
       "4       12836994  15287   185            20                   100   False   \n",
       "...          ...    ...   ...           ...                   ...     ...   \n",
       "211369  12904863  15535   131             5                   116   False   \n",
       "211370  12904587  17604    46             2                   100   False   \n",
       "211371  12904961  14888    92            16                   116   False   \n",
       "211372  12904942  22858    75            29                   116   False   \n",
       "211373  12904608  17266   146            30                   116    True   \n",
       "\n",
       "        domestic  beat  district  ward  community_area  x_coordinate  \\\n",
       "0          False   624         6   6.0              44     1181612.0   \n",
       "1          False  1833        18  42.0               8     1177293.0   \n",
       "2           True  2533        25  37.0              25     1144610.0   \n",
       "3          False  1925        19  46.0               6     1170694.0   \n",
       "4           True  1114        11  28.0              26     1148076.0   \n",
       "...          ...   ...       ...   ...             ...           ...   \n",
       "211369     False  1013        10  22.0              29     1148171.0   \n",
       "211370      True   811         8  14.0              56     1134577.0   \n",
       "211371     False  1912        19  47.0               5     1162927.0   \n",
       "211372     False   624         6   6.0              69     1181872.0   \n",
       "211373     False   923         9  14.0              63     1158892.0   \n",
       "\n",
       "        y_coordinate  year   latitude  longitude  predicted  \n",
       "0          1852489.0  2022  41.750462 -87.610059      False  \n",
       "1          1905597.0  2022  41.896294 -87.624280      False  \n",
       "2          1910885.0  2022  41.911483 -87.744185      False  \n",
       "3          1926410.0  2022  41.953553 -87.647905      False  \n",
       "4          1900155.0  2022  41.881973 -87.731729      False  \n",
       "...              ...   ...        ...        ...        ...  \n",
       "211369     1888007.0  2022  41.848635 -87.731692      False  \n",
       "211370     1869832.0  2022  41.799011 -87.782012      False  \n",
       "211371     1927726.0  2022  41.957331 -87.676420      False  \n",
       "211372     1855091.0  2022  41.757596 -87.609026      False  \n",
       "211373     1871119.0  2022  41.802080 -87.692807      False  \n",
       "\n",
       "[211374 rows x 17 columns]"
      ]
     },
     "execution_count": 326,
     "metadata": {},
     "output_type": "execute_result"
    }
   ],
   "source": [
    "crimes_df_validation_rf"
   ]
  },
  {
   "cell_type": "markdown",
   "metadata": {},
   "source": [
    "Displaying the predicted and actual values for all the values in the test dataset"
   ]
  },
  {
   "cell_type": "code",
   "execution_count": 328,
   "metadata": {},
   "outputs": [
    {
     "data": {
      "text/html": [
       "<div>\n",
       "<style scoped>\n",
       "    .dataframe tbody tr th:only-of-type {\n",
       "        vertical-align: middle;\n",
       "    }\n",
       "\n",
       "    .dataframe tbody tr th {\n",
       "        vertical-align: top;\n",
       "    }\n",
       "\n",
       "    .dataframe thead th {\n",
       "        text-align: right;\n",
       "    }\n",
       "</style>\n",
       "<table border=\"1\" class=\"dataframe\">\n",
       "  <thead>\n",
       "    <tr style=\"text-align: right;\">\n",
       "      <th></th>\n",
       "      <th>predicted</th>\n",
       "      <th>actual</th>\n",
       "    </tr>\n",
       "  </thead>\n",
       "  <tbody>\n",
       "    <tr>\n",
       "      <th>0</th>\n",
       "      <td>False</td>\n",
       "      <td>False</td>\n",
       "    </tr>\n",
       "    <tr>\n",
       "      <th>1</th>\n",
       "      <td>False</td>\n",
       "      <td>False</td>\n",
       "    </tr>\n",
       "    <tr>\n",
       "      <th>2</th>\n",
       "      <td>False</td>\n",
       "      <td>False</td>\n",
       "    </tr>\n",
       "    <tr>\n",
       "      <th>3</th>\n",
       "      <td>False</td>\n",
       "      <td>False</td>\n",
       "    </tr>\n",
       "    <tr>\n",
       "      <th>4</th>\n",
       "      <td>False</td>\n",
       "      <td>False</td>\n",
       "    </tr>\n",
       "  </tbody>\n",
       "</table>\n",
       "</div>"
      ],
      "text/plain": [
       "   predicted  actual\n",
       "0      False   False\n",
       "1      False   False\n",
       "2      False   False\n",
       "3      False   False\n",
       "4      False   False"
      ]
     },
     "execution_count": 328,
     "metadata": {},
     "output_type": "execute_result"
    }
   ],
   "source": [
    "Y_random_search_results = pd.DataFrame()\n",
    "Y_random_search_results = pd.DataFrame(Y_predict_Validation,columns=[\"predicted\"])\n",
    "Y_random_search_results['actual'] = crimes_df_validation_rf[['arrest']]\n",
    "Y_random_search_results.head()"
   ]
  },
  {
   "cell_type": "markdown",
   "metadata": {},
   "source": [
    "Confusion matrix for the test dataset prediction"
   ]
  },
  {
   "cell_type": "code",
   "execution_count": 323,
   "metadata": {},
   "outputs": [
    {
     "data": {
      "text/plain": [
       "array([[187433,    121],\n",
       "       [ 23596,    224]])"
      ]
     },
     "execution_count": 323,
     "metadata": {},
     "output_type": "execute_result"
    }
   ],
   "source": [
    "conf_matrix_check = confusion_matrix(Y_random_search_results['actual'],Y_random_search_results['predicted'])\n",
    "conf_matrix_check"
   ]
  },
  {
   "cell_type": "markdown",
   "metadata": {},
   "source": [
    "Test accuracy"
   ]
  },
  {
   "cell_type": "code",
   "execution_count": 324,
   "metadata": {},
   "outputs": [
    {
     "name": "stdout",
     "output_type": "stream",
     "text": [
      "Accuracy =  0.887796039247968\n"
     ]
    }
   ],
   "source": [
    "print('Accuracy = ',accuracy_score(Y_random_search_results['actual'],Y_random_search_results['predicted']))"
   ]
  },
  {
   "cell_type": "markdown",
   "metadata": {},
   "source": [
    "- The model achieved a training accuracy of 90.83%. This accuracy is based on the test set that we got from train-test-split\n",
    "- The testing accuracy for this model is 88.77%. This test data is external and the model hasn't seen these values before\n",
    "- For this, the model predicted with an accuracy of 88.77% on future data whether a crime would result in an arrest or no"
   ]
  }
 ],
 "metadata": {
  "kernelspec": {
   "display_name": "Python 3.10.8 64-bit",
   "language": "python",
   "name": "python3"
  },
  "language_info": {
   "codemirror_mode": {
    "name": "ipython",
    "version": 3
   },
   "file_extension": ".py",
   "mimetype": "text/x-python",
   "name": "python",
   "nbconvert_exporter": "python",
   "pygments_lexer": "ipython3",
   "version": "3.10.8"
  },
  "orig_nbformat": 4,
  "vscode": {
   "interpreter": {
    "hash": "aee8b7b246df8f9039afb4144a1f6fd8d2ca17a180786b69acc140d282b71a49"
   }
  }
 },
 "nbformat": 4,
 "nbformat_minor": 2
}
