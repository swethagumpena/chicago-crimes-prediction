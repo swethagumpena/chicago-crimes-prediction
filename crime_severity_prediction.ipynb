{
 "cells": [
  {
   "cell_type": "markdown",
   "id": "f1988b5e",
   "metadata": {},
   "source": [
    "### Crime severity prediction based on time and location"
   ]
  },
  {
   "cell_type": "markdown",
   "id": "c82f91c8",
   "metadata": {},
   "source": [
    "Importing Libraries and loading the data"
   ]
  },
  {
   "cell_type": "code",
   "execution_count": 717,
   "id": "fd577ae9",
   "metadata": {},
   "outputs": [],
   "source": [
    "import numpy as np\n",
    "import pandas as pd\n",
    "import matplotlib.pyplot as plt\n",
    "import warnings\n",
    "warnings.filterwarnings(\"ignore\")"
   ]
  },
  {
   "cell_type": "code",
   "execution_count": 718,
   "id": "ece9dadc",
   "metadata": {},
   "outputs": [
    {
     "data": {
      "text/html": [
       "<div>\n",
       "<style scoped>\n",
       "    .dataframe tbody tr th:only-of-type {\n",
       "        vertical-align: middle;\n",
       "    }\n",
       "\n",
       "    .dataframe tbody tr th {\n",
       "        vertical-align: top;\n",
       "    }\n",
       "\n",
       "    .dataframe thead th {\n",
       "        text-align: right;\n",
       "    }\n",
       "</style>\n",
       "<table border=\"1\" class=\"dataframe\">\n",
       "  <thead>\n",
       "    <tr style=\"text-align: right;\">\n",
       "      <th></th>\n",
       "      <th>ID</th>\n",
       "      <th>Case Number</th>\n",
       "      <th>Date</th>\n",
       "      <th>Block</th>\n",
       "      <th>IUCR</th>\n",
       "      <th>Primary Type</th>\n",
       "      <th>Description</th>\n",
       "      <th>Location Description</th>\n",
       "      <th>Arrest</th>\n",
       "      <th>Domestic</th>\n",
       "      <th>...</th>\n",
       "      <th>Ward</th>\n",
       "      <th>Community Area</th>\n",
       "      <th>FBI Code</th>\n",
       "      <th>X Coordinate</th>\n",
       "      <th>Y Coordinate</th>\n",
       "      <th>Year</th>\n",
       "      <th>Updated On</th>\n",
       "      <th>Latitude</th>\n",
       "      <th>Longitude</th>\n",
       "      <th>Location</th>\n",
       "    </tr>\n",
       "  </thead>\n",
       "  <tbody>\n",
       "    <tr>\n",
       "      <th>0</th>\n",
       "      <td>11552667</td>\n",
       "      <td>JC100123</td>\n",
       "      <td>1/1/19 0:00</td>\n",
       "      <td>004XX N STATE ST</td>\n",
       "      <td>890</td>\n",
       "      <td>THEFT</td>\n",
       "      <td>FROM BUILDING</td>\n",
       "      <td>RESTAURANT</td>\n",
       "      <td>False</td>\n",
       "      <td>False</td>\n",
       "      <td>...</td>\n",
       "      <td>42.0</td>\n",
       "      <td>8.0</td>\n",
       "      <td>6</td>\n",
       "      <td>1176302.0</td>\n",
       "      <td>1903096.0</td>\n",
       "      <td>2019</td>\n",
       "      <td>1/10/19 15:16</td>\n",
       "      <td>41.889453</td>\n",
       "      <td>-87.627995</td>\n",
       "      <td>(41.889453169, -87.627994833)</td>\n",
       "    </tr>\n",
       "    <tr>\n",
       "      <th>1</th>\n",
       "      <td>11552674</td>\n",
       "      <td>JC100085</td>\n",
       "      <td>1/1/19 0:00</td>\n",
       "      <td>092XX S NORMAL AVE</td>\n",
       "      <td>910</td>\n",
       "      <td>MOTOR VEHICLE THEFT</td>\n",
       "      <td>AUTOMOBILE</td>\n",
       "      <td>STREET</td>\n",
       "      <td>False</td>\n",
       "      <td>False</td>\n",
       "      <td>...</td>\n",
       "      <td>21.0</td>\n",
       "      <td>73.0</td>\n",
       "      <td>7</td>\n",
       "      <td>1174586.0</td>\n",
       "      <td>1843723.0</td>\n",
       "      <td>2019</td>\n",
       "      <td>1/10/19 15:16</td>\n",
       "      <td>41.726566</td>\n",
       "      <td>-87.636066</td>\n",
       "      <td>(41.726566477, -87.636065622)</td>\n",
       "    </tr>\n",
       "    <tr>\n",
       "      <th>2</th>\n",
       "      <td>11552709</td>\n",
       "      <td>JC100020</td>\n",
       "      <td>1/1/19 0:00</td>\n",
       "      <td>044XX S WASHTENAW AVE</td>\n",
       "      <td>486</td>\n",
       "      <td>BATTERY</td>\n",
       "      <td>DOMESTIC BATTERY SIMPLE</td>\n",
       "      <td>APARTMENT</td>\n",
       "      <td>False</td>\n",
       "      <td>True</td>\n",
       "      <td>...</td>\n",
       "      <td>15.0</td>\n",
       "      <td>58.0</td>\n",
       "      <td>08B</td>\n",
       "      <td>1159112.0</td>\n",
       "      <td>1875020.0</td>\n",
       "      <td>2019</td>\n",
       "      <td>1/10/19 15:16</td>\n",
       "      <td>41.812780</td>\n",
       "      <td>-87.691894</td>\n",
       "      <td>(41.812780011, -87.691893746)</td>\n",
       "    </tr>\n",
       "    <tr>\n",
       "      <th>3</th>\n",
       "      <td>11552758</td>\n",
       "      <td>JC100058</td>\n",
       "      <td>1/1/19 0:00</td>\n",
       "      <td>063XX S MARSHFIELD AVE</td>\n",
       "      <td>1310</td>\n",
       "      <td>CRIMINAL DAMAGE</td>\n",
       "      <td>TO PROPERTY</td>\n",
       "      <td>APARTMENT</td>\n",
       "      <td>False</td>\n",
       "      <td>False</td>\n",
       "      <td>...</td>\n",
       "      <td>16.0</td>\n",
       "      <td>67.0</td>\n",
       "      <td>14</td>\n",
       "      <td>1166414.0</td>\n",
       "      <td>1862607.0</td>\n",
       "      <td>2019</td>\n",
       "      <td>1/10/19 15:16</td>\n",
       "      <td>41.778565</td>\n",
       "      <td>-87.665464</td>\n",
       "      <td>(41.77856457, -87.665463557)</td>\n",
       "    </tr>\n",
       "    <tr>\n",
       "      <th>4</th>\n",
       "      <td>11553168</td>\n",
       "      <td>JC100745</td>\n",
       "      <td>1/1/19 0:00</td>\n",
       "      <td>008XX N MICHIGAN AVE</td>\n",
       "      <td>890</td>\n",
       "      <td>THEFT</td>\n",
       "      <td>FROM BUILDING</td>\n",
       "      <td>RESTAURANT</td>\n",
       "      <td>False</td>\n",
       "      <td>False</td>\n",
       "      <td>...</td>\n",
       "      <td>2.0</td>\n",
       "      <td>8.0</td>\n",
       "      <td>6</td>\n",
       "      <td>1177330.0</td>\n",
       "      <td>1906499.0</td>\n",
       "      <td>2019</td>\n",
       "      <td>1/10/19 15:16</td>\n",
       "      <td>41.898768</td>\n",
       "      <td>-87.624116</td>\n",
       "      <td>(41.898767916, -87.624116333)</td>\n",
       "    </tr>\n",
       "  </tbody>\n",
       "</table>\n",
       "<p>5 rows × 22 columns</p>\n",
       "</div>"
      ],
      "text/plain": [
       "         ID Case Number         Date                   Block  IUCR  \\\n",
       "0  11552667    JC100123  1/1/19 0:00        004XX N STATE ST   890   \n",
       "1  11552674    JC100085  1/1/19 0:00      092XX S NORMAL AVE   910   \n",
       "2  11552709    JC100020  1/1/19 0:00   044XX S WASHTENAW AVE   486   \n",
       "3  11552758    JC100058  1/1/19 0:00  063XX S MARSHFIELD AVE  1310   \n",
       "4  11553168    JC100745  1/1/19 0:00    008XX N MICHIGAN AVE   890   \n",
       "\n",
       "          Primary Type              Description Location Description  Arrest  \\\n",
       "0                THEFT            FROM BUILDING           RESTAURANT   False   \n",
       "1  MOTOR VEHICLE THEFT               AUTOMOBILE               STREET   False   \n",
       "2              BATTERY  DOMESTIC BATTERY SIMPLE            APARTMENT   False   \n",
       "3      CRIMINAL DAMAGE              TO PROPERTY            APARTMENT   False   \n",
       "4                THEFT            FROM BUILDING           RESTAURANT   False   \n",
       "\n",
       "   Domestic  ...  Ward  Community Area  FBI Code  X Coordinate Y Coordinate  \\\n",
       "0     False  ...  42.0             8.0         6     1176302.0    1903096.0   \n",
       "1     False  ...  21.0            73.0         7     1174586.0    1843723.0   \n",
       "2      True  ...  15.0            58.0       08B     1159112.0    1875020.0   \n",
       "3     False  ...  16.0            67.0        14     1166414.0    1862607.0   \n",
       "4     False  ...   2.0             8.0         6     1177330.0    1906499.0   \n",
       "\n",
       "   Year     Updated On   Latitude  Longitude                       Location  \n",
       "0  2019  1/10/19 15:16  41.889453 -87.627995  (41.889453169, -87.627994833)  \n",
       "1  2019  1/10/19 15:16  41.726566 -87.636066  (41.726566477, -87.636065622)  \n",
       "2  2019  1/10/19 15:16  41.812780 -87.691894  (41.812780011, -87.691893746)  \n",
       "3  2019  1/10/19 15:16  41.778565 -87.665464   (41.77856457, -87.665463557)  \n",
       "4  2019  1/10/19 15:16  41.898768 -87.624116  (41.898767916, -87.624116333)  \n",
       "\n",
       "[5 rows x 22 columns]"
      ]
     },
     "execution_count": 718,
     "metadata": {},
     "output_type": "execute_result"
    }
   ],
   "source": [
    "#Loading the dataset\n",
    "crimes_df = pd.read_csv('Crimes-2019_to_2021.csv')\n",
    "crimes_df.head(5)"
   ]
  },
  {
   "cell_type": "code",
   "execution_count": 719,
   "id": "8b315025",
   "metadata": {},
   "outputs": [
    {
     "data": {
      "text/plain": [
       "(680425, 22)"
      ]
     },
     "execution_count": 719,
     "metadata": {},
     "output_type": "execute_result"
    }
   ],
   "source": [
    "#Printing the shape of dataset before datacleaning\n",
    "crimes_df.shape"
   ]
  },
  {
   "cell_type": "code",
   "execution_count": 720,
   "id": "f0a70f93",
   "metadata": {},
   "outputs": [
    {
     "data": {
      "text/html": [
       "<div>\n",
       "<style scoped>\n",
       "    .dataframe tbody tr th:only-of-type {\n",
       "        vertical-align: middle;\n",
       "    }\n",
       "\n",
       "    .dataframe tbody tr th {\n",
       "        vertical-align: top;\n",
       "    }\n",
       "\n",
       "    .dataframe thead th {\n",
       "        text-align: right;\n",
       "    }\n",
       "</style>\n",
       "<table border=\"1\" class=\"dataframe\">\n",
       "  <thead>\n",
       "    <tr style=\"text-align: right;\">\n",
       "      <th></th>\n",
       "      <th>count</th>\n",
       "      <th>unique</th>\n",
       "      <th>top</th>\n",
       "      <th>freq</th>\n",
       "    </tr>\n",
       "  </thead>\n",
       "  <tbody>\n",
       "    <tr>\n",
       "      <th>Arrest</th>\n",
       "      <td>680425</td>\n",
       "      <td>2</td>\n",
       "      <td>False</td>\n",
       "      <td>564424</td>\n",
       "    </tr>\n",
       "    <tr>\n",
       "      <th>Domestic</th>\n",
       "      <td>680425</td>\n",
       "      <td>2</td>\n",
       "      <td>False</td>\n",
       "      <td>552364</td>\n",
       "    </tr>\n",
       "    <tr>\n",
       "      <th>FBI Code</th>\n",
       "      <td>680425</td>\n",
       "      <td>26</td>\n",
       "      <td>6</td>\n",
       "      <td>144459</td>\n",
       "    </tr>\n",
       "    <tr>\n",
       "      <th>Primary Type</th>\n",
       "      <td>680425</td>\n",
       "      <td>33</td>\n",
       "      <td>THEFT</td>\n",
       "      <td>144459</td>\n",
       "    </tr>\n",
       "    <tr>\n",
       "      <th>Location Description</th>\n",
       "      <td>677055</td>\n",
       "      <td>177</td>\n",
       "      <td>STREET</td>\n",
       "      <td>158900</td>\n",
       "    </tr>\n",
       "    <tr>\n",
       "      <th>IUCR</th>\n",
       "      <td>680425</td>\n",
       "      <td>335</td>\n",
       "      <td>486</td>\n",
       "      <td>63843</td>\n",
       "    </tr>\n",
       "    <tr>\n",
       "      <th>Description</th>\n",
       "      <td>680425</td>\n",
       "      <td>459</td>\n",
       "      <td>SIMPLE</td>\n",
       "      <td>78061</td>\n",
       "    </tr>\n",
       "    <tr>\n",
       "      <th>Updated On</th>\n",
       "      <td>680425</td>\n",
       "      <td>2745</td>\n",
       "      <td>12/17/20 15:44</td>\n",
       "      <td>31128</td>\n",
       "    </tr>\n",
       "    <tr>\n",
       "      <th>Block</th>\n",
       "      <td>680425</td>\n",
       "      <td>32761</td>\n",
       "      <td>001XX N STATE ST</td>\n",
       "      <td>1935</td>\n",
       "    </tr>\n",
       "    <tr>\n",
       "      <th>Location</th>\n",
       "      <td>670010</td>\n",
       "      <td>233823</td>\n",
       "      <td>(41.883500187, -87.627876698)</td>\n",
       "      <td>903</td>\n",
       "    </tr>\n",
       "    <tr>\n",
       "      <th>Date</th>\n",
       "      <td>680425</td>\n",
       "      <td>341712</td>\n",
       "      <td>1/1/21 0:00</td>\n",
       "      <td>111</td>\n",
       "    </tr>\n",
       "    <tr>\n",
       "      <th>Case Number</th>\n",
       "      <td>680425</td>\n",
       "      <td>680342</td>\n",
       "      <td>JE266473</td>\n",
       "      <td>5</td>\n",
       "    </tr>\n",
       "  </tbody>\n",
       "</table>\n",
       "</div>"
      ],
      "text/plain": [
       "                       count  unique                            top    freq\n",
       "Arrest                680425       2                          False  564424\n",
       "Domestic              680425       2                          False  552364\n",
       "FBI Code              680425      26                              6  144459\n",
       "Primary Type          680425      33                          THEFT  144459\n",
       "Location Description  677055     177                         STREET  158900\n",
       "IUCR                  680425     335                            486   63843\n",
       "Description           680425     459                         SIMPLE   78061\n",
       "Updated On            680425    2745                 12/17/20 15:44   31128\n",
       "Block                 680425   32761               001XX N STATE ST    1935\n",
       "Location              670010  233823  (41.883500187, -87.627876698)     903\n",
       "Date                  680425  341712                    1/1/21 0:00     111\n",
       "Case Number           680425  680342                       JE266473       5"
      ]
     },
     "execution_count": 720,
     "metadata": {},
     "output_type": "execute_result"
    }
   ],
   "source": [
    "#Printing the unique values of the dataset\n",
    "crimes_df.describe(exclude='number').T.sort_values(by='unique')"
   ]
  },
  {
   "cell_type": "code",
   "execution_count": 721,
   "id": "ab27af66",
   "metadata": {},
   "outputs": [],
   "source": [
    "#Dropping the duplicate rows in the dataset with dropdupicates() to avoid inconsistencies\n",
    "crimes_df=crimes_df.drop_duplicates()"
   ]
  },
  {
   "cell_type": "code",
   "execution_count": 722,
   "id": "bdcb2bd1",
   "metadata": {},
   "outputs": [],
   "source": [
    "# Converting the data column to datetime object so we can get better results of our analysis\n",
    "# Get the day of the week,month and hour of the crimes\n",
    "\n",
    "crimes_df.Date = pd.to_datetime(crimes_df.Date)\n",
    "crimes_df['Day'] =pd.to_datetime(crimes_df.Date).dt.day_name()\n",
    "crimes_df['Month'] = pd.to_datetime(crimes_df.Date).dt.month_name()\n",
    "crimes_df['Hour'] = pd.to_datetime(crimes_df.Date).dt.hour"
   ]
  },
  {
   "cell_type": "code",
   "execution_count": 723,
   "id": "5fd25843",
   "metadata": {},
   "outputs": [],
   "source": [
    "#Drop thr error location coordinates\n",
    "crimes_df[['X Coordinate', 'Y Coordinate']] = crimes_df[['X Coordinate', 'Y Coordinate']].replace(0.0, np.nan)\n",
    "crimes_df.dropna(inplace=True)"
   ]
  },
  {
   "cell_type": "code",
   "execution_count": 724,
   "id": "dcb5c8e9",
   "metadata": {},
   "outputs": [
    {
     "data": {
      "text/plain": [
       "(667343, 25)"
      ]
     },
     "execution_count": 724,
     "metadata": {},
     "output_type": "execute_result"
    }
   ],
   "source": [
    "#Shape of the data after cleaning the dataset\n",
    "crimes_df.shape"
   ]
  },
  {
   "cell_type": "code",
   "execution_count": 725,
   "id": "9930152d",
   "metadata": {},
   "outputs": [
    {
     "data": {
      "text/html": [
       "<div>\n",
       "<style scoped>\n",
       "    .dataframe tbody tr th:only-of-type {\n",
       "        vertical-align: middle;\n",
       "    }\n",
       "\n",
       "    .dataframe tbody tr th {\n",
       "        vertical-align: top;\n",
       "    }\n",
       "\n",
       "    .dataframe thead th {\n",
       "        text-align: right;\n",
       "    }\n",
       "</style>\n",
       "<table border=\"1\" class=\"dataframe\">\n",
       "  <thead>\n",
       "    <tr style=\"text-align: right;\">\n",
       "      <th></th>\n",
       "      <th>ID</th>\n",
       "      <th>Beat</th>\n",
       "      <th>District</th>\n",
       "      <th>Ward</th>\n",
       "      <th>Community Area</th>\n",
       "      <th>X Coordinate</th>\n",
       "      <th>Y Coordinate</th>\n",
       "      <th>Year</th>\n",
       "      <th>Latitude</th>\n",
       "      <th>Longitude</th>\n",
       "      <th>Hour</th>\n",
       "    </tr>\n",
       "  </thead>\n",
       "  <tbody>\n",
       "    <tr>\n",
       "      <th>count</th>\n",
       "      <td>6.673430e+05</td>\n",
       "      <td>667343.000000</td>\n",
       "      <td>667343.000000</td>\n",
       "      <td>667343.000000</td>\n",
       "      <td>667343.000000</td>\n",
       "      <td>6.673430e+05</td>\n",
       "      <td>6.673430e+05</td>\n",
       "      <td>667343.000000</td>\n",
       "      <td>667343.000000</td>\n",
       "      <td>667343.000000</td>\n",
       "      <td>667343.000000</td>\n",
       "    </tr>\n",
       "    <tr>\n",
       "      <th>mean</th>\n",
       "      <td>1.202490e+07</td>\n",
       "      <td>1142.282448</td>\n",
       "      <td>11.193935</td>\n",
       "      <td>23.107793</td>\n",
       "      <td>37.118725</td>\n",
       "      <td>1.165009e+06</td>\n",
       "      <td>1.885778e+06</td>\n",
       "      <td>2019.915472</td>\n",
       "      <td>41.842163</td>\n",
       "      <td>-87.670002</td>\n",
       "      <td>12.861140</td>\n",
       "    </tr>\n",
       "    <tr>\n",
       "      <th>std</th>\n",
       "      <td>7.340958e+05</td>\n",
       "      <td>696.288164</td>\n",
       "      <td>6.957258</td>\n",
       "      <td>13.832376</td>\n",
       "      <td>21.505196</td>\n",
       "      <td>1.631030e+04</td>\n",
       "      <td>3.160928e+04</td>\n",
       "      <td>0.825843</td>\n",
       "      <td>0.086930</td>\n",
       "      <td>0.059366</td>\n",
       "      <td>6.697731</td>\n",
       "    </tr>\n",
       "    <tr>\n",
       "      <th>min</th>\n",
       "      <td>2.436800e+04</td>\n",
       "      <td>111.000000</td>\n",
       "      <td>1.000000</td>\n",
       "      <td>1.000000</td>\n",
       "      <td>1.000000</td>\n",
       "      <td>1.091242e+06</td>\n",
       "      <td>1.813897e+06</td>\n",
       "      <td>2019.000000</td>\n",
       "      <td>41.644590</td>\n",
       "      <td>-87.939733</td>\n",
       "      <td>0.000000</td>\n",
       "    </tr>\n",
       "    <tr>\n",
       "      <th>25%</th>\n",
       "      <td>1.180451e+07</td>\n",
       "      <td>611.000000</td>\n",
       "      <td>6.000000</td>\n",
       "      <td>10.000000</td>\n",
       "      <td>23.000000</td>\n",
       "      <td>1.153189e+06</td>\n",
       "      <td>1.858322e+06</td>\n",
       "      <td>2019.000000</td>\n",
       "      <td>41.766546</td>\n",
       "      <td>-87.712799</td>\n",
       "      <td>9.000000</td>\n",
       "    </tr>\n",
       "    <tr>\n",
       "      <th>50%</th>\n",
       "      <td>1.205657e+07</td>\n",
       "      <td>1023.000000</td>\n",
       "      <td>10.000000</td>\n",
       "      <td>24.000000</td>\n",
       "      <td>32.000000</td>\n",
       "      <td>1.166821e+06</td>\n",
       "      <td>1.891963e+06</td>\n",
       "      <td>2020.000000</td>\n",
       "      <td>41.859136</td>\n",
       "      <td>-87.663591</td>\n",
       "      <td>14.000000</td>\n",
       "    </tr>\n",
       "    <tr>\n",
       "      <th>75%</th>\n",
       "      <td>1.231634e+07</td>\n",
       "      <td>1712.000000</td>\n",
       "      <td>17.000000</td>\n",
       "      <td>34.000000</td>\n",
       "      <td>54.000000</td>\n",
       "      <td>1.176659e+06</td>\n",
       "      <td>1.908521e+06</td>\n",
       "      <td>2021.000000</td>\n",
       "      <td>41.904580</td>\n",
       "      <td>-87.627438</td>\n",
       "      <td>18.000000</td>\n",
       "    </tr>\n",
       "    <tr>\n",
       "      <th>max</th>\n",
       "      <td>1.284969e+07</td>\n",
       "      <td>2535.000000</td>\n",
       "      <td>31.000000</td>\n",
       "      <td>50.000000</td>\n",
       "      <td>77.000000</td>\n",
       "      <td>1.205119e+06</td>\n",
       "      <td>1.951527e+06</td>\n",
       "      <td>2021.000000</td>\n",
       "      <td>42.022586</td>\n",
       "      <td>-87.524529</td>\n",
       "      <td>23.000000</td>\n",
       "    </tr>\n",
       "  </tbody>\n",
       "</table>\n",
       "</div>"
      ],
      "text/plain": [
       "                 ID           Beat       District           Ward  \\\n",
       "count  6.673430e+05  667343.000000  667343.000000  667343.000000   \n",
       "mean   1.202490e+07    1142.282448      11.193935      23.107793   \n",
       "std    7.340958e+05     696.288164       6.957258      13.832376   \n",
       "min    2.436800e+04     111.000000       1.000000       1.000000   \n",
       "25%    1.180451e+07     611.000000       6.000000      10.000000   \n",
       "50%    1.205657e+07    1023.000000      10.000000      24.000000   \n",
       "75%    1.231634e+07    1712.000000      17.000000      34.000000   \n",
       "max    1.284969e+07    2535.000000      31.000000      50.000000   \n",
       "\n",
       "       Community Area  X Coordinate  Y Coordinate           Year  \\\n",
       "count   667343.000000  6.673430e+05  6.673430e+05  667343.000000   \n",
       "mean        37.118725  1.165009e+06  1.885778e+06    2019.915472   \n",
       "std         21.505196  1.631030e+04  3.160928e+04       0.825843   \n",
       "min          1.000000  1.091242e+06  1.813897e+06    2019.000000   \n",
       "25%         23.000000  1.153189e+06  1.858322e+06    2019.000000   \n",
       "50%         32.000000  1.166821e+06  1.891963e+06    2020.000000   \n",
       "75%         54.000000  1.176659e+06  1.908521e+06    2021.000000   \n",
       "max         77.000000  1.205119e+06  1.951527e+06    2021.000000   \n",
       "\n",
       "            Latitude      Longitude           Hour  \n",
       "count  667343.000000  667343.000000  667343.000000  \n",
       "mean       41.842163     -87.670002      12.861140  \n",
       "std         0.086930       0.059366       6.697731  \n",
       "min        41.644590     -87.939733       0.000000  \n",
       "25%        41.766546     -87.712799       9.000000  \n",
       "50%        41.859136     -87.663591      14.000000  \n",
       "75%        41.904580     -87.627438      18.000000  \n",
       "max        42.022586     -87.524529      23.000000  "
      ]
     },
     "execution_count": 725,
     "metadata": {},
     "output_type": "execute_result"
    }
   ],
   "source": [
    "#Describing the data\n",
    "crimes_df.describe()"
   ]
  },
  {
   "cell_type": "markdown",
   "id": "b868137f",
   "metadata": {},
   "source": [
    "## Model 1 - XGBClassifier for predicting the crime rate severity at a location and time"
   ]
  },
  {
   "cell_type": "code",
   "execution_count": null,
   "id": "36e76d30",
   "metadata": {},
   "outputs": [],
   "source": []
  },
  {
   "cell_type": "code",
   "execution_count": 726,
   "id": "e5a76b89",
   "metadata": {},
   "outputs": [],
   "source": [
    "#Importing the necessary libraries\n",
    "from sklearn.model_selection import train_test_split\n",
    "from sklearn import metrics \n",
    "from sklearn.metrics import confusion_matrix, classification_report\n",
    "from sklearn.utils.multiclass import unique_labels\n",
    "from sklearn.linear_model import LogisticRegression\n",
    "from xgboost import XGBClassifier"
   ]
  },
  {
   "cell_type": "code",
   "execution_count": 727,
   "id": "f832b6a3",
   "metadata": {},
   "outputs": [
    {
     "data": {
      "text/plain": [
       "23"
      ]
     },
     "execution_count": 727,
     "metadata": {},
     "output_type": "execute_result"
    }
   ],
   "source": [
    "#Checking if the hours is 24 hours format or not\n",
    "crimes_df['Hour'].max()"
   ]
  },
  {
   "cell_type": "code",
   "execution_count": 728,
   "id": "e8a70b74",
   "metadata": {},
   "outputs": [],
   "source": [
    "#Converting the respective features to categorical type using astype and .cat.codes\n",
    "crimes_df['Primary Type'] = crimes_df['Primary Type'].astype('category')\n",
    "crimes_df['Primary Type'] = crimes_df['Primary Type'].cat.codes\n",
    "\n",
    "crimes_df['Month'] = crimes_df['Month'].astype('category')\n",
    "crimes_df['Month'] = crimes_df['Month'].cat.codes\n",
    "\n",
    "crimes_df['Day'] = crimes_df['Day'].astype('category')\n",
    "crimes_df['Day'] = crimes_df['Day'].cat.codes\n",
    "\n",
    "crimes_df['District'] = crimes_df['District'].astype('category')\n",
    "crimes_df['District'] = crimes_df['District'].cat.codes"
   ]
  },
  {
   "cell_type": "code",
   "execution_count": 729,
   "id": "8edcb1e3",
   "metadata": {},
   "outputs": [],
   "source": [
    "#Renaming column names to lower case and filling spaces with underscores.\n",
    "crimes_df.columns = crimes_df.columns.str.strip()\n",
    "crimes_df.columns = crimes_df.columns.str.replace(' ', '_')\n",
    "crimes_df.columns = crimes_df.columns.str.lower()"
   ]
  },
  {
   "cell_type": "code",
   "execution_count": 730,
   "id": "a24b70ae",
   "metadata": {},
   "outputs": [
    {
     "data": {
      "text/html": [
       "<div>\n",
       "<style scoped>\n",
       "    .dataframe tbody tr th:only-of-type {\n",
       "        vertical-align: middle;\n",
       "    }\n",
       "\n",
       "    .dataframe tbody tr th {\n",
       "        vertical-align: top;\n",
       "    }\n",
       "\n",
       "    .dataframe thead th {\n",
       "        text-align: right;\n",
       "    }\n",
       "</style>\n",
       "<table border=\"1\" class=\"dataframe\">\n",
       "  <thead>\n",
       "    <tr style=\"text-align: right;\">\n",
       "      <th></th>\n",
       "      <th>day</th>\n",
       "      <th>month</th>\n",
       "      <th>hour</th>\n",
       "      <th>district</th>\n",
       "      <th>primary_type</th>\n",
       "    </tr>\n",
       "  </thead>\n",
       "  <tbody>\n",
       "    <tr>\n",
       "      <th>0</th>\n",
       "      <td>5</td>\n",
       "      <td>4</td>\n",
       "      <td>0</td>\n",
       "      <td>16</td>\n",
       "      <td>31</td>\n",
       "    </tr>\n",
       "    <tr>\n",
       "      <th>1</th>\n",
       "      <td>5</td>\n",
       "      <td>4</td>\n",
       "      <td>0</td>\n",
       "      <td>19</td>\n",
       "      <td>17</td>\n",
       "    </tr>\n",
       "    <tr>\n",
       "      <th>2</th>\n",
       "      <td>5</td>\n",
       "      <td>4</td>\n",
       "      <td>0</td>\n",
       "      <td>8</td>\n",
       "      <td>2</td>\n",
       "    </tr>\n",
       "    <tr>\n",
       "      <th>3</th>\n",
       "      <td>5</td>\n",
       "      <td>4</td>\n",
       "      <td>0</td>\n",
       "      <td>6</td>\n",
       "      <td>6</td>\n",
       "    </tr>\n",
       "    <tr>\n",
       "      <th>4</th>\n",
       "      <td>5</td>\n",
       "      <td>4</td>\n",
       "      <td>0</td>\n",
       "      <td>16</td>\n",
       "      <td>31</td>\n",
       "    </tr>\n",
       "  </tbody>\n",
       "</table>\n",
       "</div>"
      ],
      "text/plain": [
       "   day  month  hour  district  primary_type\n",
       "0    5      4     0        16            31\n",
       "1    5      4     0        19            17\n",
       "2    5      4     0         8             2\n",
       "3    5      4     0         6             6\n",
       "4    5      4     0        16            31"
      ]
     },
     "execution_count": 730,
     "metadata": {},
     "output_type": "execute_result"
    }
   ],
   "source": [
    "#Extracting the required features for the model \n",
    "features = ['day','month','hour','district', 'primary_type']\n",
    "temp_df = crimes_df[features]\n",
    "temp_df.head()"
   ]
  },
  {
   "cell_type": "code",
   "execution_count": null,
   "id": "78593611",
   "metadata": {},
   "outputs": [],
   "source": []
  },
  {
   "cell_type": "code",
   "execution_count": 731,
   "id": "34d088b7",
   "metadata": {},
   "outputs": [
    {
     "data": {
      "text/html": [
       "<div>\n",
       "<style scoped>\n",
       "    .dataframe tbody tr th:only-of-type {\n",
       "        vertical-align: middle;\n",
       "    }\n",
       "\n",
       "    .dataframe tbody tr th {\n",
       "        vertical-align: top;\n",
       "    }\n",
       "\n",
       "    .dataframe thead th {\n",
       "        text-align: right;\n",
       "    }\n",
       "</style>\n",
       "<table border=\"1\" class=\"dataframe\">\n",
       "  <thead>\n",
       "    <tr style=\"text-align: right;\">\n",
       "      <th></th>\n",
       "      <th>day</th>\n",
       "      <th>district</th>\n",
       "      <th>month</th>\n",
       "      <th>hour</th>\n",
       "      <th>primary_type</th>\n",
       "    </tr>\n",
       "  </thead>\n",
       "  <tbody>\n",
       "    <tr>\n",
       "      <th>44286</th>\n",
       "      <td>6</td>\n",
       "      <td>22</td>\n",
       "      <td>11</td>\n",
       "      <td>8</td>\n",
       "      <td>6.0</td>\n",
       "    </tr>\n",
       "    <tr>\n",
       "      <th>18984</th>\n",
       "      <td>2</td>\n",
       "      <td>22</td>\n",
       "      <td>3</td>\n",
       "      <td>12</td>\n",
       "      <td>9.0</td>\n",
       "    </tr>\n",
       "    <tr>\n",
       "      <th>12653</th>\n",
       "      <td>1</td>\n",
       "      <td>22</td>\n",
       "      <td>2</td>\n",
       "      <td>12</td>\n",
       "      <td>2.0</td>\n",
       "    </tr>\n",
       "    <tr>\n",
       "      <th>25318</th>\n",
       "      <td>3</td>\n",
       "      <td>22</td>\n",
       "      <td>2</td>\n",
       "      <td>10</td>\n",
       "      <td>9.0</td>\n",
       "    </tr>\n",
       "    <tr>\n",
       "      <th>25319</th>\n",
       "      <td>3</td>\n",
       "      <td>22</td>\n",
       "      <td>4</td>\n",
       "      <td>0</td>\n",
       "      <td>1.0</td>\n",
       "    </tr>\n",
       "  </tbody>\n",
       "</table>\n",
       "</div>"
      ],
      "text/plain": [
       "       day  district  month  hour  primary_type\n",
       "44286    6        22     11     8           6.0\n",
       "18984    2        22      3    12           9.0\n",
       "12653    1        22      2    12           2.0\n",
       "25318    3        22      2    10           9.0\n",
       "25319    3        22      4     0           1.0"
      ]
     },
     "execution_count": 731,
     "metadata": {},
     "output_type": "execute_result"
    }
   ],
   "source": [
    "#Making a new dataframe for the model with the features day, district, month and hour, primary_type, by performing group by on 4 below columns and aggregating with primary_type mean \n",
    "crimes_df_xgb = temp_df.groupby(['day','district','month','hour'], as_index=False).agg({\"primary_type\":'mean'})\n",
    "crimes_df_xgb = crimes_df_xgb.sort_values(by=['district'], ascending=False)\n",
    "crimes_df_xgb.head()"
   ]
  },
  {
   "cell_type": "code",
   "execution_count": 732,
   "id": "b057bc9c",
   "metadata": {},
   "outputs": [
    {
     "data": {
      "text/plain": [
       "['day', 'district', 'month', 'hour', 'primary_type']"
      ]
     },
     "execution_count": 732,
     "metadata": {},
     "output_type": "execute_result"
    }
   ],
   "source": [
    "list(crimes_df_xgb)"
   ]
  },
  {
   "cell_type": "code",
   "execution_count": 733,
   "id": "229f976f",
   "metadata": {},
   "outputs": [
    {
     "data": {
      "text/plain": [
       "32"
      ]
     },
     "execution_count": 733,
     "metadata": {},
     "output_type": "execute_result"
    }
   ],
   "source": [
    "# from sklearn import preprocessing\n",
    "# label_encoder = preprocessing.LabelEncoder() \n",
    "# crimes_df_xgb['primary_type']= label_encoder.fit_transform(crimes_df_xgb['primary_type']) \n",
    "# print(crimes_df_xgb.head())\n",
    "\n",
    "crimes_df_xgb['primary_type'].max().astype(int)"
   ]
  },
  {
   "cell_type": "code",
   "execution_count": 734,
   "id": "a79f362d",
   "metadata": {},
   "outputs": [],
   "source": [
    "### There are total 33 unique values of primary crime type"
   ]
  },
  {
   "cell_type": "code",
   "execution_count": 735,
   "id": "62a19004",
   "metadata": {},
   "outputs": [
    {
     "data": {
      "text/plain": [
       "(44287, 5)"
      ]
     },
     "execution_count": 735,
     "metadata": {},
     "output_type": "execute_result"
    }
   ],
   "source": [
    "#Final dataframe after performing label encoding on attributes\n",
    "crimes_df_xgb = crimes_df_xgb[['month','day','hour','primary_type','district']]\n",
    "crimes_df_xgb.head()\n",
    "crimes_df_xgb.shape"
   ]
  },
  {
   "cell_type": "code",
   "execution_count": 736,
   "id": "3ef58807",
   "metadata": {},
   "outputs": [
    {
     "data": {
      "text/plain": [
       "array([ 6.        ,  9.        ,  2.        , ..., 23.3       ,\n",
       "       20.76666667, 24.6875    ])"
      ]
     },
     "execution_count": 736,
     "metadata": {},
     "output_type": "execute_result"
    }
   ],
   "source": [
    "crimes_df_xgb['primary_type'].unique().astype(float)"
   ]
  },
  {
   "cell_type": "code",
   "execution_count": 737,
   "id": "c23c177d",
   "metadata": {},
   "outputs": [
    {
     "name": "stdout",
     "output_type": "stream",
     "text": [
      "The average number of crimes per district, per month, per day, per hour is  14\n"
     ]
    }
   ],
   "source": [
    "#Calculating The average number of crimes per district, per month, per day, per hour\n",
    "print(\"The average number of crimes per district, per month, per day, per hour is \",int(crimes_df_xgb['primary_type'].sum()/44287))"
   ]
  },
  {
   "cell_type": "markdown",
   "id": "f60b8a46",
   "metadata": {},
   "source": [
    "### We divide the crime severity as :\n",
    "#### 0 to 11 : Low Severity\n",
    "#### 11 to 20 : Medium Severity\n",
    "#### 21 to 32 : High Severity"
   ]
  },
  {
   "cell_type": "code",
   "execution_count": 738,
   "id": "cf2db187",
   "metadata": {},
   "outputs": [],
   "source": [
    "#Create a new feature crime_severity by basing on average crimes obtained above \n",
    "def severity_feature(val):\n",
    "    if(val <= 11):\n",
    "        return 0\n",
    "    elif(val > 11 and val <= 20):\n",
    "        return 1\n",
    "    else:\n",
    "        return 2"
   ]
  },
  {
   "cell_type": "code",
   "execution_count": 739,
   "id": "b2447387",
   "metadata": {},
   "outputs": [
    {
     "data": {
      "text/html": [
       "<div>\n",
       "<style scoped>\n",
       "    .dataframe tbody tr th:only-of-type {\n",
       "        vertical-align: middle;\n",
       "    }\n",
       "\n",
       "    .dataframe tbody tr th {\n",
       "        vertical-align: top;\n",
       "    }\n",
       "\n",
       "    .dataframe thead th {\n",
       "        text-align: right;\n",
       "    }\n",
       "</style>\n",
       "<table border=\"1\" class=\"dataframe\">\n",
       "  <thead>\n",
       "    <tr style=\"text-align: right;\">\n",
       "      <th></th>\n",
       "      <th>month</th>\n",
       "      <th>day</th>\n",
       "      <th>hour</th>\n",
       "      <th>district</th>\n",
       "      <th>primary_type</th>\n",
       "      <th>crime_severity</th>\n",
       "    </tr>\n",
       "  </thead>\n",
       "  <tbody>\n",
       "    <tr>\n",
       "      <th>44286</th>\n",
       "      <td>11</td>\n",
       "      <td>6</td>\n",
       "      <td>8</td>\n",
       "      <td>22</td>\n",
       "      <td>6.0</td>\n",
       "      <td>0</td>\n",
       "    </tr>\n",
       "    <tr>\n",
       "      <th>18984</th>\n",
       "      <td>3</td>\n",
       "      <td>2</td>\n",
       "      <td>12</td>\n",
       "      <td>22</td>\n",
       "      <td>9.0</td>\n",
       "      <td>0</td>\n",
       "    </tr>\n",
       "    <tr>\n",
       "      <th>12653</th>\n",
       "      <td>2</td>\n",
       "      <td>1</td>\n",
       "      <td>12</td>\n",
       "      <td>22</td>\n",
       "      <td>2.0</td>\n",
       "      <td>0</td>\n",
       "    </tr>\n",
       "    <tr>\n",
       "      <th>25318</th>\n",
       "      <td>2</td>\n",
       "      <td>3</td>\n",
       "      <td>10</td>\n",
       "      <td>22</td>\n",
       "      <td>9.0</td>\n",
       "      <td>0</td>\n",
       "    </tr>\n",
       "    <tr>\n",
       "      <th>25319</th>\n",
       "      <td>4</td>\n",
       "      <td>3</td>\n",
       "      <td>0</td>\n",
       "      <td>22</td>\n",
       "      <td>1.0</td>\n",
       "      <td>0</td>\n",
       "    </tr>\n",
       "  </tbody>\n",
       "</table>\n",
       "</div>"
      ],
      "text/plain": [
       "       month  day  hour  district  primary_type  crime_severity\n",
       "44286     11    6     8        22           6.0               0\n",
       "18984      3    2    12        22           9.0               0\n",
       "12653      2    1    12        22           2.0               0\n",
       "25318      2    3    10        22           9.0               0\n",
       "25319      4    3     0        22           1.0               0"
      ]
     },
     "execution_count": 739,
     "metadata": {},
     "output_type": "execute_result"
    }
   ],
   "source": [
    "#Creating the target feature column \"crime_severity\"\n",
    "crimes_df_xgb['crime_severity'] = crimes_df_xgb['primary_type'].apply(severity_feature)\n",
    "crimes_df_xgb = crimes_df_xgb[['month','day','hour','district','primary_type','crime_severity']]\n",
    "crimes_df_xgb.head()"
   ]
  },
  {
   "cell_type": "markdown",
   "id": "2777b720",
   "metadata": {},
   "source": [
    "### Making crime_severity as the target feature with crime_severity rate 0 , 1 and 2 indicating low, medium and high crime rate"
   ]
  },
  {
   "cell_type": "code",
   "execution_count": 740,
   "id": "6ea94dce",
   "metadata": {},
   "outputs": [],
   "source": [
    "#Define X and Y values\n",
    "\n",
    "#Features which are independent\n",
    "X = crimes_df_xgb[['month', 'day', 'hour','district']] \n",
    "#Feature which is our target and dependent on above features\n",
    "y = crimes_df_xgb['crime_severity']\n",
    "\n",
    "X = X.to_numpy()\n",
    "y = y.to_numpy()"
   ]
  },
  {
   "cell_type": "code",
   "execution_count": 741,
   "id": "746b75c0",
   "metadata": {},
   "outputs": [],
   "source": [
    "#Split the data into test and validation set with train size as 80% and test size as 20%\n",
    "\n",
    "X_trainval, X_test, y_trainval, y_test = train_test_split(X, y, train_size=0.80, test_size=0.20, random_state=42)\n",
    "X_train, X_val, y_train, y_val = train_test_split(X_trainval, y_trainval, test_size=0.2, random_state=42)\n"
   ]
  },
  {
   "cell_type": "code",
   "execution_count": 742,
   "id": "c1949a71",
   "metadata": {},
   "outputs": [
    {
     "data": {
      "text/plain": [
       "((35429, 4), (8858, 4), (35429,), (8858,), (7086, 4), (7086,))"
      ]
     },
     "execution_count": 742,
     "metadata": {},
     "output_type": "execute_result"
    }
   ],
   "source": [
    "X_trainval.shape, X_test.shape, y_trainval.shape, y_test.shape, X_val.shape, y_val.shape"
   ]
  },
  {
   "cell_type": "code",
   "execution_count": 743,
   "id": "11863f9c",
   "metadata": {},
   "outputs": [],
   "source": [
    "#X_train, X_val, y_train, y_val = train_test_split(X_trainval, y_trainval, test_size=0.2, random_state=42)"
   ]
  },
  {
   "cell_type": "code",
   "execution_count": 744,
   "id": "4e744522",
   "metadata": {},
   "outputs": [],
   "source": [
    "#Applying the model and fitting the model \n",
    "model_xgb_crime = XGBClassifier(max_depth = 10)\n",
    "model_xgb_crime = model_xgb_crime.fit(X_train, y_train)\n",
    "\n"
   ]
  },
  {
   "cell_type": "code",
   "execution_count": 745,
   "id": "ed99001e",
   "metadata": {},
   "outputs": [],
   "source": [
    "#Making predictions on the XGB CLassifier model using validation data and test data\n",
    "y_pred_val = model_xgb_crime.predict(X_val)\n",
    "y_pred_test = model_xgb_crime.predict(X_test)\n",
    "y_pred_train = model_xgb_crime.predict(X_train)"
   ]
  },
  {
   "cell_type": "code",
   "execution_count": 746,
   "id": "bc00bb8d",
   "metadata": {},
   "outputs": [
    {
     "name": "stdout",
     "output_type": "stream",
     "text": [
      "Accuracy for the train data: 90.01164308647638 \n",
      "\n",
      "Accuracy for the test data: 65.62429442312035 \n",
      "\n",
      "Accuracy for the validation data: 65.35421958791984 \n",
      "\n",
      "\n",
      "Confusion Matrix for XGB Classifier\n",
      "Predicted Severity    0     1    2\n",
      "Actual Severity                   \n",
      "0                   487  1327   47\n",
      "1                   784  5184  251\n",
      "2                    83   553  142\n"
     ]
    }
   ],
   "source": [
    "from sklearn.metrics import confusion_matrix\n",
    "from sklearn import metrics\n",
    "import seaborn as sns\n",
    "print(\"Accuracy for the train data:\",(metrics.accuracy_score(y_train, y_pred_train)*100),\"\\n\")\n",
    "print(\"Accuracy for the test data:\",(metrics.accuracy_score(y_test, y_pred_test)*100),\"\\n\")\n",
    "print(\"Accuracy for the validation data:\",(metrics.accuracy_score(y_val, y_pred_val)*100),\"\\n\")\n",
    "\n",
    "confusion_matrix = pd.crosstab(y_test, y_pred_test, rownames=['Actual Severity'], colnames=['Predicted Severity'])\n",
    "print(\"\\nConfusion Matrix for XGB Classifier\")\n",
    "print(confusion_matrix)"
   ]
  },
  {
   "cell_type": "code",
   "execution_count": 747,
   "id": "027382ff",
   "metadata": {},
   "outputs": [
    {
     "data": {
      "image/png": "[encoded data removed]",
      "text/plain": [
       "<Figure size 800x550 with 2 Axes>"
      ]
     },
     "metadata": {},
     "output_type": "display_data"
    }
   ],
   "source": [
    "#Visualizing the confusion matrix\n",
    "sns.set_style(\"darkgrid\")\n",
    "sns.heatmap(confusion_matrix, annot = True, fmt = \".3f\", square = True,cmap=\"BuPu\")\n",
    "plt.ylabel('Actual')\n",
    "plt.xlabel('Predicted')\n",
    "plt.title('Confusion matrix')\n",
    "plt.tight_layout()"
   ]
  },
  {
   "cell_type": "code",
   "execution_count": 748,
   "id": "e6fae004",
   "metadata": {},
   "outputs": [
    {
     "name": "stdout",
     "output_type": "stream",
     "text": [
      "Classification Report for XGB Classifier Model\n",
      "\n",
      "              precision    recall  f1-score   support\n",
      "\n",
      "           0       0.36      0.26      0.30      1861\n",
      "           1       0.73      0.83      0.78      6219\n",
      "           2       0.32      0.18      0.23       778\n",
      "\n",
      "    accuracy                           0.66      8858\n",
      "   macro avg       0.47      0.43      0.44      8858\n",
      "weighted avg       0.62      0.66      0.63      8858\n",
      "\n"
     ]
    }
   ],
   "source": [
    "#Printing the  Classification Report\n",
    "print(\"Classification Report for XGB Classifier Model\\n\")\n",
    "print(classification_report(y_test,y_pred_test))"
   ]
  },
  {
   "cell_type": "code",
   "execution_count": 749,
   "id": "47942b8d",
   "metadata": {},
   "outputs": [
    {
     "data": {
      "image/png": "[encoded data removed]",
      "text/plain": [
       "<Figure size 800x550 with 2 Axes>"
      ]
     },
     "metadata": {},
     "output_type": "display_data"
    },
    {
     "data": {
      "text/plain": [
       "<AxesSubplot: title={'center': 'XGBClassifier Classification Report'}>"
      ]
     },
     "execution_count": 749,
     "metadata": {},
     "output_type": "execute_result"
    }
   ],
   "source": [
    "#Visualizing the classification report\n",
    "from yellowbrick.classifier import ClassificationReport\n",
    "\n",
    "classes=['low','medium', 'high']\n",
    "\n",
    "visualizer = ClassificationReport(model_xgb_crime, classes=classes, support=True)\n",
    "visualizer.fit(X_train, y_train)        # Fit the visualizer and the model\n",
    "visualizer.score(X_test, y_test)        # Evaluate the model on the test data\n",
    "visualizer.show()"
   ]
  },
  {
   "cell_type": "code",
   "execution_count": 750,
   "id": "c60dd563",
   "metadata": {},
   "outputs": [],
   "source": [
    "#Visualizing the predicted classes\n",
    "count0 = 0\n",
    "count1 = 0\n",
    "count2 = 0\n",
    "for i in y_pred_test:\n",
    "    if i == 1:\n",
    "        count1 += 1\n",
    "    if i == 0:\n",
    "        count0 += 1\n",
    "    if i == 2:\n",
    "        count2 += 1\n",
    "predicted = []\n",
    "predicted.append(count0)\n",
    "predicted.append(count1)\n",
    "predicted.append(count2)"
   ]
  },
  {
   "cell_type": "code",
   "execution_count": 751,
   "id": "289f5dd2",
   "metadata": {},
   "outputs": [
    {
     "data": {
      "text/plain": [
       "[1354, 7064, 440]"
      ]
     },
     "execution_count": 751,
     "metadata": {},
     "output_type": "execute_result"
    }
   ],
   "source": [
    "### predicted count of each class\n",
    "predicted"
   ]
  },
  {
   "cell_type": "code",
   "execution_count": 752,
   "id": "a1dde6f4",
   "metadata": {},
   "outputs": [],
   "source": [
    "import matplotlib.pyplot as plt\n",
    "class_names = [\"Low\",\"Medium\",\"High\"]"
   ]
  },
  {
   "cell_type": "code",
   "execution_count": 753,
   "id": "2c100392",
   "metadata": {},
   "outputs": [
    {
     "data": {
      "image/png": "[encoded data removed]",
      "text/plain": [
       "<Figure size 800x600 with 1 Axes>"
      ]
     },
     "metadata": {},
     "output_type": "display_data"
    }
   ],
   "source": [
    "#Print bar graph for the predicted classes of severity\n",
    "plt.figure(figsize=(8, 6))\n",
    "plt.scatter(class_names,predicted)\n",
    "plt.title(\"Crime Prediction severity\")\n",
    "\n",
    "# Labels for x and y axis\n",
    "plt.xlabel(\"Crime Severity\")\n",
    "plt.ylabel(\"Score\")\n",
    "plt.show()\n"
   ]
  },
  {
   "cell_type": "markdown",
   "id": "585442c8",
   "metadata": {},
   "source": [
    "### Observation : We see Medium rate severity of crimes occuring at most of the locations "
   ]
  },
  {
   "cell_type": "markdown",
   "id": "ba5e82a8",
   "metadata": {},
   "source": [
    "### Results of XGBoost Classifier model\n",
    "\n",
    "#### The model achieved an accuracy of  90% for train data\n",
    "#### The model achieved an accuracy of  65% for test data\n",
    "#### The model achieved an accuracy of  65% for validation data\n"
   ]
  },
  {
   "cell_type": "markdown",
   "id": "82139d31",
   "metadata": {},
   "source": [
    "## Model 2 : AdaBoostClassifier with DecisionTree "
   ]
  },
  {
   "cell_type": "markdown",
   "id": "33332ec9",
   "metadata": {},
   "source": [
    "## AdaBoost Classifier for predicting the crime rate severity at a location and time"
   ]
  },
  {
   "cell_type": "code",
   "execution_count": 754,
   "id": "289d2fce",
   "metadata": {},
   "outputs": [],
   "source": [
    "from sklearn.model_selection import train_test_split\n",
    "from sklearn import metrics \n",
    "from sklearn.metrics import confusion_matrix, classification_report\n",
    "from sklearn.utils.multiclass import unique_labels\n",
    "from sklearn.linear_model import LogisticRegression\n",
    "from xgboost import XGBClassifier\n",
    "from sklearn.ensemble import GradientBoostingRegressor\n",
    "from sklearn.ensemble import AdaBoostClassifier\n",
    "from sklearn.metrics import accuracy_score\n",
    "from sklearn.tree import DecisionTreeClassifier"
   ]
  },
  {
   "cell_type": "code",
   "execution_count": 755,
   "id": "432332c3",
   "metadata": {},
   "outputs": [
    {
     "data": {
      "text/html": [
       "<div>\n",
       "<style scoped>\n",
       "    .dataframe tbody tr th:only-of-type {\n",
       "        vertical-align: middle;\n",
       "    }\n",
       "\n",
       "    .dataframe tbody tr th {\n",
       "        vertical-align: top;\n",
       "    }\n",
       "\n",
       "    .dataframe thead th {\n",
       "        text-align: right;\n",
       "    }\n",
       "</style>\n",
       "<table border=\"1\" class=\"dataframe\">\n",
       "  <thead>\n",
       "    <tr style=\"text-align: right;\">\n",
       "      <th></th>\n",
       "      <th>ID</th>\n",
       "      <th>Case Number</th>\n",
       "      <th>Date</th>\n",
       "      <th>Block</th>\n",
       "      <th>IUCR</th>\n",
       "      <th>Primary Type</th>\n",
       "      <th>Description</th>\n",
       "      <th>Location Description</th>\n",
       "      <th>Arrest</th>\n",
       "      <th>Domestic</th>\n",
       "      <th>...</th>\n",
       "      <th>Ward</th>\n",
       "      <th>Community Area</th>\n",
       "      <th>FBI Code</th>\n",
       "      <th>X Coordinate</th>\n",
       "      <th>Y Coordinate</th>\n",
       "      <th>Year</th>\n",
       "      <th>Updated On</th>\n",
       "      <th>Latitude</th>\n",
       "      <th>Longitude</th>\n",
       "      <th>Location</th>\n",
       "    </tr>\n",
       "  </thead>\n",
       "  <tbody>\n",
       "    <tr>\n",
       "      <th>0</th>\n",
       "      <td>11552667</td>\n",
       "      <td>JC100123</td>\n",
       "      <td>1/1/19 0:00</td>\n",
       "      <td>004XX N STATE ST</td>\n",
       "      <td>890</td>\n",
       "      <td>THEFT</td>\n",
       "      <td>FROM BUILDING</td>\n",
       "      <td>RESTAURANT</td>\n",
       "      <td>False</td>\n",
       "      <td>False</td>\n",
       "      <td>...</td>\n",
       "      <td>42.0</td>\n",
       "      <td>8.0</td>\n",
       "      <td>6</td>\n",
       "      <td>1176302.0</td>\n",
       "      <td>1903096.0</td>\n",
       "      <td>2019</td>\n",
       "      <td>1/10/19 15:16</td>\n",
       "      <td>41.889453</td>\n",
       "      <td>-87.627995</td>\n",
       "      <td>(41.889453169, -87.627994833)</td>\n",
       "    </tr>\n",
       "    <tr>\n",
       "      <th>1</th>\n",
       "      <td>11552674</td>\n",
       "      <td>JC100085</td>\n",
       "      <td>1/1/19 0:00</td>\n",
       "      <td>092XX S NORMAL AVE</td>\n",
       "      <td>910</td>\n",
       "      <td>MOTOR VEHICLE THEFT</td>\n",
       "      <td>AUTOMOBILE</td>\n",
       "      <td>STREET</td>\n",
       "      <td>False</td>\n",
       "      <td>False</td>\n",
       "      <td>...</td>\n",
       "      <td>21.0</td>\n",
       "      <td>73.0</td>\n",
       "      <td>7</td>\n",
       "      <td>1174586.0</td>\n",
       "      <td>1843723.0</td>\n",
       "      <td>2019</td>\n",
       "      <td>1/10/19 15:16</td>\n",
       "      <td>41.726566</td>\n",
       "      <td>-87.636066</td>\n",
       "      <td>(41.726566477, -87.636065622)</td>\n",
       "    </tr>\n",
       "    <tr>\n",
       "      <th>2</th>\n",
       "      <td>11552709</td>\n",
       "      <td>JC100020</td>\n",
       "      <td>1/1/19 0:00</td>\n",
       "      <td>044XX S WASHTENAW AVE</td>\n",
       "      <td>486</td>\n",
       "      <td>BATTERY</td>\n",
       "      <td>DOMESTIC BATTERY SIMPLE</td>\n",
       "      <td>APARTMENT</td>\n",
       "      <td>False</td>\n",
       "      <td>True</td>\n",
       "      <td>...</td>\n",
       "      <td>15.0</td>\n",
       "      <td>58.0</td>\n",
       "      <td>08B</td>\n",
       "      <td>1159112.0</td>\n",
       "      <td>1875020.0</td>\n",
       "      <td>2019</td>\n",
       "      <td>1/10/19 15:16</td>\n",
       "      <td>41.812780</td>\n",
       "      <td>-87.691894</td>\n",
       "      <td>(41.812780011, -87.691893746)</td>\n",
       "    </tr>\n",
       "    <tr>\n",
       "      <th>3</th>\n",
       "      <td>11552758</td>\n",
       "      <td>JC100058</td>\n",
       "      <td>1/1/19 0:00</td>\n",
       "      <td>063XX S MARSHFIELD AVE</td>\n",
       "      <td>1310</td>\n",
       "      <td>CRIMINAL DAMAGE</td>\n",
       "      <td>TO PROPERTY</td>\n",
       "      <td>APARTMENT</td>\n",
       "      <td>False</td>\n",
       "      <td>False</td>\n",
       "      <td>...</td>\n",
       "      <td>16.0</td>\n",
       "      <td>67.0</td>\n",
       "      <td>14</td>\n",
       "      <td>1166414.0</td>\n",
       "      <td>1862607.0</td>\n",
       "      <td>2019</td>\n",
       "      <td>1/10/19 15:16</td>\n",
       "      <td>41.778565</td>\n",
       "      <td>-87.665464</td>\n",
       "      <td>(41.77856457, -87.665463557)</td>\n",
       "    </tr>\n",
       "    <tr>\n",
       "      <th>4</th>\n",
       "      <td>11553168</td>\n",
       "      <td>JC100745</td>\n",
       "      <td>1/1/19 0:00</td>\n",
       "      <td>008XX N MICHIGAN AVE</td>\n",
       "      <td>890</td>\n",
       "      <td>THEFT</td>\n",
       "      <td>FROM BUILDING</td>\n",
       "      <td>RESTAURANT</td>\n",
       "      <td>False</td>\n",
       "      <td>False</td>\n",
       "      <td>...</td>\n",
       "      <td>2.0</td>\n",
       "      <td>8.0</td>\n",
       "      <td>6</td>\n",
       "      <td>1177330.0</td>\n",
       "      <td>1906499.0</td>\n",
       "      <td>2019</td>\n",
       "      <td>1/10/19 15:16</td>\n",
       "      <td>41.898768</td>\n",
       "      <td>-87.624116</td>\n",
       "      <td>(41.898767916, -87.624116333)</td>\n",
       "    </tr>\n",
       "  </tbody>\n",
       "</table>\n",
       "<p>5 rows × 22 columns</p>\n",
       "</div>"
      ],
      "text/plain": [
       "         ID Case Number         Date                   Block  IUCR  \\\n",
       "0  11552667    JC100123  1/1/19 0:00        004XX N STATE ST   890   \n",
       "1  11552674    JC100085  1/1/19 0:00      092XX S NORMAL AVE   910   \n",
       "2  11552709    JC100020  1/1/19 0:00   044XX S WASHTENAW AVE   486   \n",
       "3  11552758    JC100058  1/1/19 0:00  063XX S MARSHFIELD AVE  1310   \n",
       "4  11553168    JC100745  1/1/19 0:00    008XX N MICHIGAN AVE   890   \n",
       "\n",
       "          Primary Type              Description Location Description  Arrest  \\\n",
       "0                THEFT            FROM BUILDING           RESTAURANT   False   \n",
       "1  MOTOR VEHICLE THEFT               AUTOMOBILE               STREET   False   \n",
       "2              BATTERY  DOMESTIC BATTERY SIMPLE            APARTMENT   False   \n",
       "3      CRIMINAL DAMAGE              TO PROPERTY            APARTMENT   False   \n",
       "4                THEFT            FROM BUILDING           RESTAURANT   False   \n",
       "\n",
       "   Domestic  ...  Ward  Community Area  FBI Code  X Coordinate Y Coordinate  \\\n",
       "0     False  ...  42.0             8.0         6     1176302.0    1903096.0   \n",
       "1     False  ...  21.0            73.0         7     1174586.0    1843723.0   \n",
       "2      True  ...  15.0            58.0       08B     1159112.0    1875020.0   \n",
       "3     False  ...  16.0            67.0        14     1166414.0    1862607.0   \n",
       "4     False  ...   2.0             8.0         6     1177330.0    1906499.0   \n",
       "\n",
       "   Year     Updated On   Latitude  Longitude                       Location  \n",
       "0  2019  1/10/19 15:16  41.889453 -87.627995  (41.889453169, -87.627994833)  \n",
       "1  2019  1/10/19 15:16  41.726566 -87.636066  (41.726566477, -87.636065622)  \n",
       "2  2019  1/10/19 15:16  41.812780 -87.691894  (41.812780011, -87.691893746)  \n",
       "3  2019  1/10/19 15:16  41.778565 -87.665464   (41.77856457, -87.665463557)  \n",
       "4  2019  1/10/19 15:16  41.898768 -87.624116  (41.898767916, -87.624116333)  \n",
       "\n",
       "[5 rows x 22 columns]"
      ]
     },
     "execution_count": 755,
     "metadata": {},
     "output_type": "execute_result"
    }
   ],
   "source": [
    "#Loading the dataset\n",
    "#crimes_df = pd.read_csv('C:/Users/ksidda2/Downloads/Crimes-2019_to_2021.csv')\n",
    "crimes_df = pd.read_csv('Crimes-2019_to_2021.csv')\n",
    "crimes_df.head(5)"
   ]
  },
  {
   "cell_type": "code",
   "execution_count": 756,
   "id": "14363156",
   "metadata": {},
   "outputs": [],
   "source": [
    "# Converting the data column to datetime object so we can get better results of our analysis\n",
    "# Get the day of the week,month and hour of the crimes\n",
    "\n",
    "crimes_df.Date = pd.to_datetime(crimes_df.Date)\n",
    "crimes_df['Day'] =pd.to_datetime(crimes_df.Date).dt.day_name()\n",
    "crimes_df['Month'] = pd.to_datetime(crimes_df.Date).dt.month_name()\n",
    "crimes_df['Hour'] = pd.to_datetime(crimes_df.Date).dt.hour"
   ]
  },
  {
   "cell_type": "code",
   "execution_count": 757,
   "id": "be0132b7",
   "metadata": {},
   "outputs": [],
   "source": [
    "#Converting the respective features to categorical type using astype and .cat.codes\n",
    "crimes_df['Primary Type'] = crimes_df['Primary Type'].astype('category')\n",
    "crimes_df['Primary Type'] = crimes_df['Primary Type'].cat.codes\n",
    "\n",
    "crimes_df['Month'] = crimes_df['Month'].astype('category')\n",
    "crimes_df['Month'] = crimes_df['Month'].cat.codes\n",
    "\n",
    "crimes_df['Day'] = crimes_df['Day'].astype('category')\n",
    "crimes_df['Day'] = crimes_df['Day'].cat.codes\n",
    "\n",
    "crimes_df['District'] = crimes_df['District'].astype('category')\n",
    "crimes_df['District'] = crimes_df['District'].cat.codes"
   ]
  },
  {
   "cell_type": "code",
   "execution_count": 758,
   "id": "11e7b8d1",
   "metadata": {},
   "outputs": [],
   "source": [
    "#Drop thr error location coordinates\n",
    "crimes_df[['X Coordinate', 'Y Coordinate']] = crimes_df[['X Coordinate', 'Y Coordinate']].replace(0.0, np.nan)\n",
    "crimes_df.dropna(inplace=True)"
   ]
  },
  {
   "cell_type": "code",
   "execution_count": 759,
   "id": "6a449607",
   "metadata": {},
   "outputs": [],
   "source": [
    "#Renaming column names to lower case and filling spaces with underscores.\n",
    "crimes_df.columns = crimes_df.columns.str.strip()\n",
    "crimes_df.columns = crimes_df.columns.str.replace(' ', '_')\n",
    "crimes_df.columns = crimes_df.columns.str.lower()"
   ]
  },
  {
   "cell_type": "code",
   "execution_count": null,
   "id": "e8f904f6",
   "metadata": {},
   "outputs": [],
   "source": []
  },
  {
   "cell_type": "code",
   "execution_count": 760,
   "id": "9da95cbf",
   "metadata": {},
   "outputs": [],
   "source": [
    "#Dropping the duplicate rows in the dataset with dropdupicates() to avoid inconsistencies\n",
    "crimes_df=crimes_df.drop_duplicates()"
   ]
  },
  {
   "cell_type": "code",
   "execution_count": 761,
   "id": "f340628c",
   "metadata": {},
   "outputs": [
    {
     "data": {
      "text/html": [
       "<div>\n",
       "<style scoped>\n",
       "    .dataframe tbody tr th:only-of-type {\n",
       "        vertical-align: middle;\n",
       "    }\n",
       "\n",
       "    .dataframe tbody tr th {\n",
       "        vertical-align: top;\n",
       "    }\n",
       "\n",
       "    .dataframe thead th {\n",
       "        text-align: right;\n",
       "    }\n",
       "</style>\n",
       "<table border=\"1\" class=\"dataframe\">\n",
       "  <thead>\n",
       "    <tr style=\"text-align: right;\">\n",
       "      <th></th>\n",
       "      <th>day</th>\n",
       "      <th>month</th>\n",
       "      <th>hour</th>\n",
       "      <th>district</th>\n",
       "      <th>primary_type</th>\n",
       "    </tr>\n",
       "  </thead>\n",
       "  <tbody>\n",
       "    <tr>\n",
       "      <th>0</th>\n",
       "      <td>5</td>\n",
       "      <td>4</td>\n",
       "      <td>0</td>\n",
       "      <td>16</td>\n",
       "      <td>31</td>\n",
       "    </tr>\n",
       "    <tr>\n",
       "      <th>1</th>\n",
       "      <td>5</td>\n",
       "      <td>4</td>\n",
       "      <td>0</td>\n",
       "      <td>19</td>\n",
       "      <td>17</td>\n",
       "    </tr>\n",
       "    <tr>\n",
       "      <th>2</th>\n",
       "      <td>5</td>\n",
       "      <td>4</td>\n",
       "      <td>0</td>\n",
       "      <td>8</td>\n",
       "      <td>2</td>\n",
       "    </tr>\n",
       "    <tr>\n",
       "      <th>3</th>\n",
       "      <td>5</td>\n",
       "      <td>4</td>\n",
       "      <td>0</td>\n",
       "      <td>6</td>\n",
       "      <td>6</td>\n",
       "    </tr>\n",
       "    <tr>\n",
       "      <th>4</th>\n",
       "      <td>5</td>\n",
       "      <td>4</td>\n",
       "      <td>0</td>\n",
       "      <td>16</td>\n",
       "      <td>31</td>\n",
       "    </tr>\n",
       "  </tbody>\n",
       "</table>\n",
       "</div>"
      ],
      "text/plain": [
       "   day  month  hour  district  primary_type\n",
       "0    5      4     0        16            31\n",
       "1    5      4     0        19            17\n",
       "2    5      4     0         8             2\n",
       "3    5      4     0         6             6\n",
       "4    5      4     0        16            31"
      ]
     },
     "execution_count": 761,
     "metadata": {},
     "output_type": "execute_result"
    }
   ],
   "source": [
    "\n",
    "\n",
    "#Extracting the required features for the model \n",
    "features = ['day','month','hour','district', 'primary_type']\n",
    "temp_df = crimes_df[features]\n",
    "temp_df.head()"
   ]
  },
  {
   "cell_type": "code",
   "execution_count": 762,
   "id": "93d24807",
   "metadata": {},
   "outputs": [
    {
     "data": {
      "text/html": [
       "<div>\n",
       "<style scoped>\n",
       "    .dataframe tbody tr th:only-of-type {\n",
       "        vertical-align: middle;\n",
       "    }\n",
       "\n",
       "    .dataframe tbody tr th {\n",
       "        vertical-align: top;\n",
       "    }\n",
       "\n",
       "    .dataframe thead th {\n",
       "        text-align: right;\n",
       "    }\n",
       "</style>\n",
       "<table border=\"1\" class=\"dataframe\">\n",
       "  <thead>\n",
       "    <tr style=\"text-align: right;\">\n",
       "      <th></th>\n",
       "      <th>day</th>\n",
       "      <th>district</th>\n",
       "      <th>month</th>\n",
       "      <th>hour</th>\n",
       "      <th>primary_type</th>\n",
       "    </tr>\n",
       "  </thead>\n",
       "  <tbody>\n",
       "    <tr>\n",
       "      <th>44286</th>\n",
       "      <td>6</td>\n",
       "      <td>22</td>\n",
       "      <td>11</td>\n",
       "      <td>8</td>\n",
       "      <td>6.0</td>\n",
       "    </tr>\n",
       "    <tr>\n",
       "      <th>18984</th>\n",
       "      <td>2</td>\n",
       "      <td>22</td>\n",
       "      <td>3</td>\n",
       "      <td>12</td>\n",
       "      <td>9.0</td>\n",
       "    </tr>\n",
       "    <tr>\n",
       "      <th>12653</th>\n",
       "      <td>1</td>\n",
       "      <td>22</td>\n",
       "      <td>2</td>\n",
       "      <td>12</td>\n",
       "      <td>2.0</td>\n",
       "    </tr>\n",
       "    <tr>\n",
       "      <th>25318</th>\n",
       "      <td>3</td>\n",
       "      <td>22</td>\n",
       "      <td>2</td>\n",
       "      <td>10</td>\n",
       "      <td>9.0</td>\n",
       "    </tr>\n",
       "    <tr>\n",
       "      <th>25319</th>\n",
       "      <td>3</td>\n",
       "      <td>22</td>\n",
       "      <td>4</td>\n",
       "      <td>0</td>\n",
       "      <td>1.0</td>\n",
       "    </tr>\n",
       "  </tbody>\n",
       "</table>\n",
       "</div>"
      ],
      "text/plain": [
       "       day  district  month  hour  primary_type\n",
       "44286    6        22     11     8           6.0\n",
       "18984    2        22      3    12           9.0\n",
       "12653    1        22      2    12           2.0\n",
       "25318    3        22      2    10           9.0\n",
       "25319    3        22      4     0           1.0"
      ]
     },
     "execution_count": 762,
     "metadata": {},
     "output_type": "execute_result"
    }
   ],
   "source": [
    "\n",
    "\n",
    "#Making a new dataframe for the model with the features day, district, month and hour, primary_type, by performing group by on 4 below columns and aggregating with primary_type mean \n",
    "crimes_df_ada = temp_df.groupby(['day','district','month','hour'], as_index=False).agg({\"primary_type\":'mean'})\n",
    "crimes_df_ada = crimes_df_ada.sort_values(by=['district'], ascending=False)\n",
    "crimes_df_ada.head()\n"
   ]
  },
  {
   "cell_type": "code",
   "execution_count": 763,
   "id": "7d375f28",
   "metadata": {},
   "outputs": [
    {
     "data": {
      "text/plain": [
       "32"
      ]
     },
     "execution_count": 763,
     "metadata": {},
     "output_type": "execute_result"
    }
   ],
   "source": [
    "crimes_df_ada['primary_type'].max().astype(int)"
   ]
  },
  {
   "cell_type": "code",
   "execution_count": 764,
   "id": "4f22f6a1",
   "metadata": {},
   "outputs": [],
   "source": [
    "\n",
    "### There are total 33 unique values of primary crime type"
   ]
  },
  {
   "cell_type": "code",
   "execution_count": 765,
   "id": "7573529f",
   "metadata": {},
   "outputs": [
    {
     "data": {
      "text/plain": [
       "(44287, 5)"
      ]
     },
     "execution_count": 765,
     "metadata": {},
     "output_type": "execute_result"
    }
   ],
   "source": [
    "#Final dataframe after performing label encoding on attributes\n",
    "crimes_df_ada = crimes_df_ada[['month','day','hour','primary_type','district']]\n",
    "crimes_df_ada.head()\n",
    "crimes_df_ada.shape"
   ]
  },
  {
   "cell_type": "code",
   "execution_count": 766,
   "id": "8e27477b",
   "metadata": {},
   "outputs": [
    {
     "data": {
      "text/plain": [
       "array([ 6,  9,  2, ..., 23, 20, 24])"
      ]
     },
     "execution_count": 766,
     "metadata": {},
     "output_type": "execute_result"
    }
   ],
   "source": [
    "crimes_df_ada['primary_type'].unique().astype(int)"
   ]
  },
  {
   "cell_type": "code",
   "execution_count": 767,
   "id": "8045c87a",
   "metadata": {},
   "outputs": [
    {
     "name": "stdout",
     "output_type": "stream",
     "text": [
      "The average number of crimes per district, per month, per day, per hour is  14\n"
     ]
    }
   ],
   "source": [
    "\n",
    "#Calculating The average number of crimes per district, per month, per day, per hour\n",
    "print(\"The average number of crimes per district, per month, per day, per hour is \",int(crimes_df_ada['primary_type'].sum()/44287))"
   ]
  },
  {
   "cell_type": "code",
   "execution_count": 768,
   "id": "de85e5c9",
   "metadata": {},
   "outputs": [],
   "source": [
    "#Create a new feature crime_severity by basing on average crimes obtained above \n",
    "def severity_feature(val):\n",
    "    if(val <= 11):\n",
    "        return 0\n",
    "    elif(val > 11 and val <= 20):\n",
    "        return 1\n",
    "    else:\n",
    "        return 2"
   ]
  },
  {
   "cell_type": "code",
   "execution_count": 769,
   "id": "1f475a1a",
   "metadata": {},
   "outputs": [
    {
     "data": {
      "text/html": [
       "<div>\n",
       "<style scoped>\n",
       "    .dataframe tbody tr th:only-of-type {\n",
       "        vertical-align: middle;\n",
       "    }\n",
       "\n",
       "    .dataframe tbody tr th {\n",
       "        vertical-align: top;\n",
       "    }\n",
       "\n",
       "    .dataframe thead th {\n",
       "        text-align: right;\n",
       "    }\n",
       "</style>\n",
       "<table border=\"1\" class=\"dataframe\">\n",
       "  <thead>\n",
       "    <tr style=\"text-align: right;\">\n",
       "      <th></th>\n",
       "      <th>month</th>\n",
       "      <th>day</th>\n",
       "      <th>hour</th>\n",
       "      <th>district</th>\n",
       "      <th>primary_type</th>\n",
       "      <th>crime_severity</th>\n",
       "    </tr>\n",
       "  </thead>\n",
       "  <tbody>\n",
       "    <tr>\n",
       "      <th>44286</th>\n",
       "      <td>11</td>\n",
       "      <td>6</td>\n",
       "      <td>8</td>\n",
       "      <td>22</td>\n",
       "      <td>6.0</td>\n",
       "      <td>0</td>\n",
       "    </tr>\n",
       "    <tr>\n",
       "      <th>18984</th>\n",
       "      <td>3</td>\n",
       "      <td>2</td>\n",
       "      <td>12</td>\n",
       "      <td>22</td>\n",
       "      <td>9.0</td>\n",
       "      <td>0</td>\n",
       "    </tr>\n",
       "    <tr>\n",
       "      <th>12653</th>\n",
       "      <td>2</td>\n",
       "      <td>1</td>\n",
       "      <td>12</td>\n",
       "      <td>22</td>\n",
       "      <td>2.0</td>\n",
       "      <td>0</td>\n",
       "    </tr>\n",
       "    <tr>\n",
       "      <th>25318</th>\n",
       "      <td>2</td>\n",
       "      <td>3</td>\n",
       "      <td>10</td>\n",
       "      <td>22</td>\n",
       "      <td>9.0</td>\n",
       "      <td>0</td>\n",
       "    </tr>\n",
       "    <tr>\n",
       "      <th>25319</th>\n",
       "      <td>4</td>\n",
       "      <td>3</td>\n",
       "      <td>0</td>\n",
       "      <td>22</td>\n",
       "      <td>1.0</td>\n",
       "      <td>0</td>\n",
       "    </tr>\n",
       "  </tbody>\n",
       "</table>\n",
       "</div>"
      ],
      "text/plain": [
       "       month  day  hour  district  primary_type  crime_severity\n",
       "44286     11    6     8        22           6.0               0\n",
       "18984      3    2    12        22           9.0               0\n",
       "12653      2    1    12        22           2.0               0\n",
       "25318      2    3    10        22           9.0               0\n",
       "25319      4    3     0        22           1.0               0"
      ]
     },
     "execution_count": 769,
     "metadata": {},
     "output_type": "execute_result"
    }
   ],
   "source": [
    "#Creating the target feature column \"crime_severity\"\n",
    "crimes_df_ada['crime_severity'] = crimes_df_ada['primary_type'].apply(severity_feature)\n",
    "crimes_df_ada = crimes_df_ada[['month','day','hour','district','primary_type','crime_severity']]\n",
    "crimes_df_ada.head()"
   ]
  },
  {
   "cell_type": "markdown",
   "id": "7a901b2d",
   "metadata": {},
   "source": [
    "### Making crime_severity as the target feature with crime_severity rate 0 , 1 and 2 indicating low, medium and high crime rate\n"
   ]
  },
  {
   "cell_type": "code",
   "execution_count": 770,
   "id": "e914af3a",
   "metadata": {},
   "outputs": [],
   "source": [
    "#Define X and Y values\n",
    "\n",
    "#Features which are independent\n",
    "X = crimes_df_ada[['month', 'day', 'hour','district']] \n",
    "#Feature which is our target and dependent on above features\n",
    "y = crimes_df_ada['crime_severity']\n",
    "\n",
    "X = X.to_numpy()\n",
    "y = y.to_numpy()"
   ]
  },
  {
   "cell_type": "code",
   "execution_count": 771,
   "id": "a23b0c4c",
   "metadata": {},
   "outputs": [
    {
     "data": {
      "text/plain": [
       "((35429, 4), (8858, 4), (35429,), (8858,))"
      ]
     },
     "execution_count": 771,
     "metadata": {},
     "output_type": "execute_result"
    }
   ],
   "source": [
    "#Split the data into test and train set with train size as 80% and test size as 20%\n",
    "#X_train, X_test, y_train, y_test = train_test_split(X, y, test_size=0.2, random_state=1)\n",
    "\n",
    "X_trainval, X_test, y_trainval, y_test = train_test_split(X, y, train_size=0.80, test_size=0.20, random_state=42)\n",
    "X_train, X_val, y_train, y_val = train_test_split(X_trainval, y_trainval, test_size=0.2, random_state=42)\n",
    "\n",
    "X_trainval.shape, X_test.shape, y_trainval.shape, y_test.shape"
   ]
  },
  {
   "cell_type": "code",
   "execution_count": 772,
   "id": "7483cab3",
   "metadata": {},
   "outputs": [
    {
     "data": {
      "text/plain": [
       "((35429, 4), (8858, 4), (35429,), (8858,), (7086, 4), (7086,))"
      ]
     },
     "execution_count": 772,
     "metadata": {},
     "output_type": "execute_result"
    }
   ],
   "source": [
    "X_trainval.shape, X_test.shape, y_trainval.shape, y_test.shape, X_val.shape, y_val.shape"
   ]
  },
  {
   "cell_type": "code",
   "execution_count": 773,
   "id": "659c5505",
   "metadata": {},
   "outputs": [],
   "source": [
    "#Applying the model and fitting the model\n",
    "from sklearn.ensemble import RandomForestClassifier\n",
    "model_ada_crime = AdaBoostClassifier()\n",
    "model_ada_crime = model_ada_crime.fit(X_train, y_train)"
   ]
  },
  {
   "cell_type": "code",
   "execution_count": 774,
   "id": "147fe1c7",
   "metadata": {},
   "outputs": [],
   "source": [
    "\n",
    "#Making predictions on the AdaBoostClassifier model using Validation and test data\n",
    "y_pred_val = model_ada_crime.predict(X_val)\n",
    "y_pred_test = model_ada_crime.predict(X_test)\n",
    "y_pred_train = model_ada_crime.predict(X_train)"
   ]
  },
  {
   "cell_type": "code",
   "execution_count": 775,
   "id": "f2878b76",
   "metadata": {},
   "outputs": [
    {
     "name": "stdout",
     "output_type": "stream",
     "text": [
      "Accuracy for the train data: 68.86356419574498 \n",
      "\n",
      "Accuracy for the test data: 69.18040189659065 \n",
      "\n",
      "Accuracy for the validation data: 69.10810047981937 \n",
      "\n"
     ]
    }
   ],
   "source": [
    "from sklearn.metrics import confusion_matrix\n",
    "from sklearn import metrics\n",
    "import seaborn as sns\n",
    "print(\"Accuracy for the train data:\",(metrics.accuracy_score(y_train, y_pred_train)*100),\"\\n\")\n",
    "print(\"Accuracy for the test data:\",(metrics.accuracy_score(y_test, y_pred_test)*100),\"\\n\")\n",
    "print(\"Accuracy for the validation data:\",(metrics.accuracy_score(y_val, y_pred_val)*100),\"\\n\")"
   ]
  },
  {
   "cell_type": "code",
   "execution_count": 776,
   "id": "7b0968c3",
   "metadata": {},
   "outputs": [
    {
     "name": "stdout",
     "output_type": "stream",
     "text": [
      "\n",
      "Confusion Matrix for AdaBoost Classifier\n",
      "Predicted Severity    0     1   2\n",
      "Actual Severity                  \n",
      "0                   359  1491  11\n",
      "1                   411  5755  53\n",
      "2                    51   713  14\n"
     ]
    }
   ],
   "source": [
    "confusion_matrix = pd.crosstab(y_test, y_pred_test, rownames=['Actual Severity'], colnames=['Predicted Severity'])\n",
    "print(\"\\nConfusion Matrix for AdaBoost Classifier\")\n",
    "print(confusion_matrix)"
   ]
  },
  {
   "cell_type": "code",
   "execution_count": 777,
   "id": "a8af25fc",
   "metadata": {},
   "outputs": [
    {
     "data": {
      "image/png": "[encoded data removed]",
      "text/plain": [
       "<Figure size 800x550 with 2 Axes>"
      ]
     },
     "metadata": {},
     "output_type": "display_data"
    }
   ],
   "source": [
    "\n",
    "#Visualizing the confusion matrix\n",
    "sns.set_style(\"darkgrid\")\n",
    "sns.heatmap(confusion_matrix, annot = True, fmt = \".3f\", square = True,cmap=\"BuPu\")\n",
    "plt.ylabel('Actual')\n",
    "plt.xlabel('Predicted')\n",
    "plt.title('Confusion matrix')\n",
    "plt.tight_layout()"
   ]
  },
  {
   "cell_type": "code",
   "execution_count": 778,
   "id": "69901c5f",
   "metadata": {},
   "outputs": [
    {
     "name": "stdout",
     "output_type": "stream",
     "text": [
      "Classification Report for AdaBoost Classifier Model\n",
      "\n",
      "              precision    recall  f1-score   support\n",
      "\n",
      "           0       0.44      0.19      0.27      1861\n",
      "           1       0.72      0.93      0.81      6219\n",
      "           2       0.18      0.02      0.03       778\n",
      "\n",
      "    accuracy                           0.69      8858\n",
      "   macro avg       0.45      0.38      0.37      8858\n",
      "weighted avg       0.62      0.69      0.63      8858\n",
      "\n"
     ]
    }
   ],
   "source": [
    "\n",
    "#Printing the  Classification Report\n",
    "print(\"Classification Report for AdaBoost Classifier Model\\n\")\n",
    "print(classification_report(y_test,y_pred_test))\n"
   ]
  },
  {
   "cell_type": "code",
   "execution_count": 779,
   "id": "d25cba20",
   "metadata": {},
   "outputs": [
    {
     "data": {
      "image/png": "[encoded data removed]",
      "text/plain": [
       "<Figure size 800x550 with 2 Axes>"
      ]
     },
     "metadata": {},
     "output_type": "display_data"
    },
    {
     "data": {
      "text/plain": [
       "<AxesSubplot: title={'center': 'AdaBoostClassifier Classification Report'}>"
      ]
     },
     "execution_count": 779,
     "metadata": {},
     "output_type": "execute_result"
    }
   ],
   "source": [
    "#Visualizing the classification report\n",
    "from yellowbrick.classifier import ClassificationReport\n",
    "\n",
    "classes=['low','medium', 'high']\n",
    "\n",
    "visualizer = ClassificationReport(model_ada_crime, classes=classes, support=True)\n",
    "visualizer.fit(X_train, y_train)        # Fit the visualizer and the model\n",
    "visualizer.score(X_test, y_test)        # Evaluate the model on the test data\n",
    "visualizer.show()"
   ]
  },
  {
   "cell_type": "markdown",
   "id": "ee388012",
   "metadata": {},
   "source": [
    "### Results of AdaBoost Classifier model\n",
    "\n",
    "The model achieved an accuracy of  68% for train data  \n",
    "The model achieved an accuracy of  69% for test data  \n",
    "The model achieved an accuracy of  69% for validation data  "
   ]
  }
 ],
 "metadata": {
  "kernelspec": {
   "display_name": "Python 3.10.8 64-bit",
   "language": "python",
   "name": "python3"
  },
  "language_info": {
   "codemirror_mode": {
    "name": "ipython",
    "version": 3
   },
   "file_extension": ".py",
   "mimetype": "text/x-python",
   "name": "python",
   "nbconvert_exporter": "python",
   "pygments_lexer": "ipython3",
   "version": "3.10.8"
  },
  "vscode": {
   "interpreter": {
    "hash": "aee8b7b246df8f9039afb4144a1f6fd8d2ca17a180786b69acc140d282b71a49"
   }
  }
 },
 "nbformat": 4,
 "nbformat_minor": 5
}
